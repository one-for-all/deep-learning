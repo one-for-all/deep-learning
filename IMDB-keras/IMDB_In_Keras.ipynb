{
 "cells": [
  {
   "cell_type": "markdown",
   "metadata": {},
   "source": [
    "# Analyzing IMDB Data in Keras"
   ]
  },
  {
   "cell_type": "code",
   "execution_count": 12,
   "metadata": {},
   "outputs": [],
   "source": [
    "# Imports\n",
    "import numpy as np\n",
    "import keras\n",
    "from keras.datasets import imdb\n",
    "from keras.models import Sequential\n",
    "from keras.layers import Dense, Dropout, Activation\n",
    "from keras.preprocessing.text import Tokenizer\n",
    "import matplotlib.pyplot as plt\n",
    "%matplotlib inline\n",
    "\n",
    "np.random.seed(42)"
   ]
  },
  {
   "cell_type": "markdown",
   "metadata": {},
   "source": [
    "## 1. Loading the data\n",
    "This dataset comes preloaded with Keras, so one simple command will get us training and testing data. There is a parameter for how many words we want to look at. We've set it at 1000, but feel free to experiment."
   ]
  },
  {
   "cell_type": "code",
   "execution_count": 13,
   "metadata": {},
   "outputs": [
    {
     "name": "stdout",
     "output_type": "stream",
     "text": [
      "(25000,)\n",
      "(25000,)\n"
     ]
    }
   ],
   "source": [
    "# Loading the data (it's preloaded in Keras)\n",
    "(x_train, y_train), (x_test, y_test) = imdb.load_data(num_words=1000)\n",
    "\n",
    "print(x_train.shape)\n",
    "print(x_test.shape)"
   ]
  },
  {
   "cell_type": "markdown",
   "metadata": {},
   "source": [
    "## 2. Examining the data\n",
    "Notice that the data has been already pre-processed, where all the words have numbers, and the reviews come in as a vector with the words that the review contains. For example, if the word 'the' is the first one in our dictionary, and a review contains the word 'the', then there is a 1 in the corresponding vector.\n",
    "\n",
    "The output comes as a vector of 1's and 0's, where 1 is a positive sentiment for the review, and 0 is negative."
   ]
  },
  {
   "cell_type": "code",
   "execution_count": 14,
   "metadata": {},
   "outputs": [
    {
     "name": "stdout",
     "output_type": "stream",
     "text": [
      "[1, 14, 22, 16, 43, 530, 973, 2, 2, 65, 458, 2, 66, 2, 4, 173, 36, 256, 5, 25, 100, 43, 838, 112, 50, 670, 2, 9, 35, 480, 284, 5, 150, 4, 172, 112, 167, 2, 336, 385, 39, 4, 172, 2, 2, 17, 546, 38, 13, 447, 4, 192, 50, 16, 6, 147, 2, 19, 14, 22, 4, 2, 2, 469, 4, 22, 71, 87, 12, 16, 43, 530, 38, 76, 15, 13, 2, 4, 22, 17, 515, 17, 12, 16, 626, 18, 2, 5, 62, 386, 12, 8, 316, 8, 106, 5, 4, 2, 2, 16, 480, 66, 2, 33, 4, 130, 12, 16, 38, 619, 5, 25, 124, 51, 36, 135, 48, 25, 2, 33, 6, 22, 12, 215, 28, 77, 52, 5, 14, 407, 16, 82, 2, 8, 4, 107, 117, 2, 15, 256, 4, 2, 7, 2, 5, 723, 36, 71, 43, 530, 476, 26, 400, 317, 46, 7, 4, 2, 2, 13, 104, 88, 4, 381, 15, 297, 98, 32, 2, 56, 26, 141, 6, 194, 2, 18, 4, 226, 22, 21, 134, 476, 26, 480, 5, 144, 30, 2, 18, 51, 36, 28, 224, 92, 25, 104, 4, 226, 65, 16, 38, 2, 88, 12, 16, 283, 5, 16, 2, 113, 103, 32, 15, 16, 2, 19, 178, 32]\n",
      "1\n"
     ]
    }
   ],
   "source": [
    "print(x_train[0])\n",
    "print(y_train[0])"
   ]
  },
  {
   "cell_type": "markdown",
   "metadata": {},
   "source": [
    "## 3. One-hot encoding the output\n",
    "Here, we'll turn the input vectors into (0,1)-vectors. For example, if the pre-processed vector contains the number 14, then in the processed vector, the 14th entry will be 1."
   ]
  },
  {
   "cell_type": "code",
   "execution_count": 15,
   "metadata": {},
   "outputs": [
    {
     "name": "stdout",
     "output_type": "stream",
     "text": [
      "[0. 1. 1. 0. 1. 1. 1. 1. 1. 1. 0. 0. 1. 1. 1. 1. 1. 1. 1. 1. 0. 1. 1. 0.\n",
      " 0. 1. 1. 0. 1. 0. 1. 0. 1. 1. 0. 1. 1. 0. 1. 1. 0. 0. 0. 1. 0. 0. 1. 0.\n",
      " 1. 0. 1. 1. 1. 0. 0. 0. 1. 0. 0. 0. 0. 0. 1. 0. 0. 1. 1. 0. 0. 0. 0. 1.\n",
      " 0. 0. 0. 0. 1. 1. 0. 0. 0. 0. 1. 0. 0. 0. 0. 1. 1. 0. 0. 0. 1. 0. 0. 0.\n",
      " 0. 0. 1. 0. 1. 0. 0. 1. 1. 0. 1. 1. 0. 0. 0. 0. 1. 1. 0. 0. 0. 1. 0. 0.\n",
      " 0. 0. 0. 0. 1. 0. 0. 0. 0. 0. 1. 0. 0. 0. 1. 1. 0. 0. 0. 0. 0. 1. 0. 0.\n",
      " 1. 0. 0. 1. 0. 0. 1. 0. 0. 0. 0. 0. 0. 0. 0. 0. 0. 0. 0. 0. 0. 0. 0. 1.\n",
      " 0. 0. 0. 0. 1. 1. 0. 0. 0. 0. 1. 0. 0. 0. 0. 0. 0. 0. 0. 0. 0. 0. 0. 0.\n",
      " 1. 0. 1. 0. 0. 0. 0. 0. 0. 0. 0. 0. 0. 0. 0. 0. 0. 0. 0. 0. 0. 0. 0. 1.\n",
      " 0. 0. 0. 0. 0. 0. 0. 0. 1. 0. 1. 0. 0. 0. 0. 0. 0. 0. 0. 0. 0. 0. 0. 0.\n",
      " 0. 0. 0. 0. 0. 0. 0. 0. 0. 0. 0. 0. 0. 0. 0. 0. 1. 0. 0. 0. 0. 0. 0. 0.\n",
      " 0. 0. 0. 0. 0. 0. 0. 0. 0. 0. 0. 0. 0. 0. 0. 0. 0. 0. 0. 1. 1. 0. 0. 0.\n",
      " 0. 0. 0. 0. 0. 0. 0. 0. 0. 1. 0. 0. 0. 0. 0. 0. 0. 0. 0. 0. 0. 0. 0. 0.\n",
      " 0. 0. 0. 0. 1. 1. 0. 0. 0. 0. 0. 0. 0. 0. 0. 0. 0. 0. 0. 0. 0. 0. 0. 0.\n",
      " 1. 0. 0. 0. 0. 0. 0. 0. 0. 0. 0. 0. 0. 0. 0. 0. 0. 0. 0. 0. 0. 0. 0. 0.\n",
      " 0. 0. 0. 0. 0. 0. 0. 0. 0. 0. 0. 0. 0. 0. 0. 0. 0. 0. 0. 0. 0. 1. 0. 0.\n",
      " 0. 1. 1. 0. 0. 0. 0. 0. 0. 0. 0. 0. 0. 0. 0. 0. 1. 0. 0. 0. 0. 0. 0. 1.\n",
      " 0. 0. 0. 0. 0. 0. 0. 0. 0. 0. 0. 0. 0. 0. 0. 0. 0. 0. 0. 0. 0. 0. 0. 0.\n",
      " 0. 0. 0. 0. 0. 0. 0. 0. 0. 0. 0. 0. 0. 0. 0. 1. 0. 0. 0. 0. 0. 0. 0. 0.\n",
      " 0. 0. 1. 0. 0. 0. 0. 0. 0. 0. 0. 0. 0. 1. 0. 0. 0. 0. 0. 0. 1. 0. 0. 0.\n",
      " 1. 0. 0. 0. 0. 0. 0. 0. 0. 0. 0. 0. 0. 0. 0. 0. 0. 0. 0. 0. 0. 0. 0. 0.\n",
      " 0. 0. 0. 0. 0. 0. 0. 0. 0. 0. 0. 1. 0. 0. 0. 0. 0. 0. 0. 0. 0. 0. 0. 0.\n",
      " 0. 0. 1. 0. 0. 0. 0. 0. 0. 0. 0. 0. 0. 0. 0. 0. 0. 0. 1. 0. 0. 0. 0. 0.\n",
      " 0. 0. 0. 0. 0. 0. 0. 0. 0. 0. 0. 0. 0. 0. 0. 0. 0. 0. 0. 0. 0. 0. 0. 0.\n",
      " 0. 0. 0. 0. 0. 0. 0. 0. 0. 0. 0. 0. 0. 0. 0. 0. 0. 0. 0. 0. 0. 0. 0. 0.\n",
      " 0. 0. 0. 0. 0. 0. 0. 0. 0. 0. 0. 0. 0. 0. 0. 0. 0. 0. 0. 1. 0. 0. 0. 0.\n",
      " 0. 0. 1. 0. 0. 0. 0. 0. 0. 0. 0. 0. 0. 0. 0. 0. 0. 0. 0. 0. 0. 0. 0. 0.\n",
      " 0. 0. 0. 0. 0. 0. 0. 0. 0. 0. 0. 0. 0. 0. 0. 0. 0. 0. 0. 0. 0. 0. 1. 0.\n",
      " 0. 0. 0. 0. 0. 0. 0. 0. 0. 0. 0. 0. 0. 0. 0. 0. 0. 0. 0. 0. 0. 0. 0. 0.\n",
      " 0. 0. 0. 0. 0. 0. 0. 0. 0. 0. 0. 0. 0. 0. 0. 0. 0. 0. 0. 0. 0. 0. 0. 0.\n",
      " 0. 0. 0. 1. 0. 0. 0. 0. 0. 0. 0. 0. 0. 0. 0. 0. 0. 0. 0. 0. 0. 0. 0. 0.\n",
      " 0. 0. 0. 0. 0. 0. 0. 0. 0. 0. 0. 0. 0. 0. 0. 0. 0. 0. 0. 0. 0. 0. 0. 0.\n",
      " 0. 0. 0. 0. 0. 0. 0. 0. 0. 0. 0. 0. 0. 0. 0. 0. 0. 0. 0. 0. 0. 0. 0. 0.\n",
      " 0. 0. 0. 0. 0. 0. 0. 0. 0. 0. 0. 0. 0. 0. 0. 0. 0. 0. 0. 0. 0. 0. 0. 0.\n",
      " 0. 0. 0. 0. 0. 0. 0. 0. 0. 0. 0. 0. 0. 0. 0. 0. 0. 0. 0. 0. 0. 0. 1. 0.\n",
      " 0. 0. 0. 0. 0. 0. 0. 0. 0. 0. 0. 0. 0. 0. 0. 0. 0. 0. 0. 0. 0. 0. 0. 0.\n",
      " 0. 0. 0. 0. 0. 0. 0. 0. 0. 0. 0. 0. 0. 0. 0. 0. 0. 0. 0. 0. 0. 0. 0. 0.\n",
      " 0. 0. 0. 0. 0. 0. 0. 0. 0. 0. 0. 0. 0. 0. 0. 0. 0. 0. 0. 0. 0. 0. 0. 0.\n",
      " 0. 0. 0. 0. 0. 0. 0. 0. 0. 0. 0. 0. 0. 0. 0. 0. 0. 0. 0. 0. 0. 0. 0. 0.\n",
      " 0. 0. 0. 0. 0. 0. 0. 0. 0. 0. 0. 0. 0. 0. 0. 0. 0. 0. 0. 0. 0. 0. 0. 0.\n",
      " 0. 0. 0. 0. 0. 0. 0. 0. 0. 0. 0. 0. 0. 1. 0. 0. 0. 0. 0. 0. 0. 0. 0. 0.\n",
      " 0. 0. 0. 0. 0. 0. 0. 0. 0. 0. 0. 0. 0. 0. 0. 0.]\n"
     ]
    }
   ],
   "source": [
    "# One-hot encoding the output into vector mode, each of length 1000\n",
    "tokenizer = Tokenizer(num_words=1000)\n",
    "x_train = tokenizer.sequences_to_matrix(x_train, mode='binary')\n",
    "x_test = tokenizer.sequences_to_matrix(x_test, mode='binary')\n",
    "print(x_train[0])"
   ]
  },
  {
   "cell_type": "markdown",
   "metadata": {},
   "source": [
    "And we'll also one-hot encode the output."
   ]
  },
  {
   "cell_type": "code",
   "execution_count": 16,
   "metadata": {},
   "outputs": [
    {
     "name": "stdout",
     "output_type": "stream",
     "text": [
      "(25000, 2)\n",
      "(25000, 2)\n"
     ]
    }
   ],
   "source": [
    "# One-hot encoding the output\n",
    "num_classes = 2\n",
    "y_train = keras.utils.to_categorical(y_train, num_classes)\n",
    "y_test = keras.utils.to_categorical(y_test, num_classes)\n",
    "print(y_train.shape)\n",
    "print(y_test.shape)"
   ]
  },
  {
   "cell_type": "markdown",
   "metadata": {},
   "source": [
    "## 4. Building the  model architecture\n",
    "Build a model here using sequential. Feel free to experiment with different layers and sizes! Also, experiment adding dropout to reduce overfitting."
   ]
  },
  {
   "cell_type": "code",
   "execution_count": 23,
   "metadata": {},
   "outputs": [],
   "source": [
    "# TODO: Build the model architecture\n",
    "model = Sequential()\n",
    "model.add(Dense(32, input_dim=x_train.shape[1], activation='relu'))\n",
    "model.add(Dropout(0.5))\n",
    "model.add(Dense(2, activation='softmax'))\n",
    "model.summary()\n",
    "\n",
    "# TODO: Compile the model using a loss function and an optimizer.\n",
    "model.compile(optimizer='rmsprop', loss='categorical_crossentropy', metrics=['accuracy'])"
   ]
  },
  {
   "cell_type": "markdown",
   "metadata": {},
   "source": [
    "## 5. Training the model\n",
    "Run the model here. Experiment with different batch_size, and number of epochs!"
   ]
  },
  {
   "cell_type": "code",
   "execution_count": 24,
   "metadata": {},
   "outputs": [
    {
     "name": "stdout",
     "output_type": "stream",
     "text": [
      "Train on 22500 samples, validate on 2500 samples\n",
      "Epoch 1/100\n",
      "22500/22500 [==============================] - 2s 96us/step - loss: 0.6195 - acc: 0.6567 - val_loss: 0.4894 - val_acc: 0.7860\n",
      "Epoch 2/100\n",
      "22500/22500 [==============================] - 1s 33us/step - loss: 0.4719 - acc: 0.7788 - val_loss: 0.4114 - val_acc: 0.8272\n",
      "Epoch 3/100\n",
      "22500/22500 [==============================] - 1s 25us/step - loss: 0.4108 - acc: 0.8211 - val_loss: 0.3803 - val_acc: 0.8428\n",
      "Epoch 4/100\n",
      "22500/22500 [==============================] - 0s 21us/step - loss: 0.3735 - acc: 0.8395 - val_loss: 0.3692 - val_acc: 0.8484\n",
      "Epoch 5/100\n",
      "22500/22500 [==============================] - 1s 22us/step - loss: 0.3575 - acc: 0.8457 - val_loss: 0.3491 - val_acc: 0.8508\n",
      "Epoch 6/100\n",
      "22500/22500 [==============================] - 0s 21us/step - loss: 0.3397 - acc: 0.8539 - val_loss: 0.3393 - val_acc: 0.8568\n",
      "Epoch 7/100\n",
      "22500/22500 [==============================] - 0s 20us/step - loss: 0.3237 - acc: 0.8644 - val_loss: 0.3358 - val_acc: 0.8608\n",
      "Epoch 8/100\n",
      "22500/22500 [==============================] - 1s 25us/step - loss: 0.3166 - acc: 0.8687 - val_loss: 0.3329 - val_acc: 0.8584\n",
      "Epoch 9/100\n",
      "22500/22500 [==============================] - 0s 21us/step - loss: 0.3099 - acc: 0.8701 - val_loss: 0.3317 - val_acc: 0.8624\n",
      "Epoch 10/100\n",
      "22500/22500 [==============================] - 1s 25us/step - loss: 0.3017 - acc: 0.8739 - val_loss: 0.3309 - val_acc: 0.8632\n",
      "Epoch 11/100\n",
      "22500/22500 [==============================] - 1s 25us/step - loss: 0.2918 - acc: 0.8805 - val_loss: 0.3554 - val_acc: 0.8588\n",
      "Epoch 12/100\n",
      "22500/22500 [==============================] - 1s 24us/step - loss: 0.2888 - acc: 0.8816 - val_loss: 0.3360 - val_acc: 0.8576\n",
      "Epoch 13/100\n",
      "22500/22500 [==============================] - 1s 25us/step - loss: 0.2824 - acc: 0.8838 - val_loss: 0.3334 - val_acc: 0.8644\n",
      "Epoch 14/100\n",
      "22500/22500 [==============================] - 1s 28us/step - loss: 0.2760 - acc: 0.8887 - val_loss: 0.3515 - val_acc: 0.8600\n",
      "Epoch 15/100\n",
      "22500/22500 [==============================] - 1s 24us/step - loss: 0.2758 - acc: 0.8872 - val_loss: 0.3352 - val_acc: 0.8604\n",
      "Epoch 16/100\n",
      "22500/22500 [==============================] - 1s 32us/step - loss: 0.2684 - acc: 0.8902 - val_loss: 0.3346 - val_acc: 0.8620\n",
      "Epoch 17/100\n",
      "22500/22500 [==============================] - 1s 35us/step - loss: 0.2643 - acc: 0.8922 - val_loss: 0.3366 - val_acc: 0.8584\n",
      "Epoch 18/100\n",
      "22500/22500 [==============================] - 1s 28us/step - loss: 0.2557 - acc: 0.8959 - val_loss: 0.3433 - val_acc: 0.8536\n",
      "Epoch 19/100\n",
      "22500/22500 [==============================] - 1s 23us/step - loss: 0.2558 - acc: 0.8974 - val_loss: 0.3401 - val_acc: 0.8608\n",
      "Epoch 20/100\n",
      "22500/22500 [==============================] - 1s 23us/step - loss: 0.2515 - acc: 0.9000 - val_loss: 0.3452 - val_acc: 0.8644\n",
      "Epoch 21/100\n",
      "22500/22500 [==============================] - 1s 30us/step - loss: 0.2521 - acc: 0.8978 - val_loss: 0.3455 - val_acc: 0.8596\n",
      "Epoch 22/100\n",
      "22500/22500 [==============================] - 1s 26us/step - loss: 0.2427 - acc: 0.9035 - val_loss: 0.3523 - val_acc: 0.8612\n",
      "Epoch 23/100\n",
      "22500/22500 [==============================] - 0s 21us/step - loss: 0.2418 - acc: 0.9041 - val_loss: 0.3478 - val_acc: 0.8656\n",
      "Epoch 24/100\n",
      "22500/22500 [==============================] - 1s 23us/step - loss: 0.2371 - acc: 0.9080 - val_loss: 0.3510 - val_acc: 0.8548\n",
      "Epoch 25/100\n",
      "22500/22500 [==============================] - 1s 28us/step - loss: 0.2350 - acc: 0.9088 - val_loss: 0.3576 - val_acc: 0.8616\n",
      "Epoch 26/100\n",
      "22500/22500 [==============================] - 1s 40us/step - loss: 0.2330 - acc: 0.9096 - val_loss: 0.3543 - val_acc: 0.8624\n",
      "Epoch 27/100\n",
      "22500/22500 [==============================] - 1s 35us/step - loss: 0.2268 - acc: 0.9120 - val_loss: 0.3552 - val_acc: 0.8612\n",
      "Epoch 28/100\n",
      "22500/22500 [==============================] - 1s 26us/step - loss: 0.2244 - acc: 0.9125 - val_loss: 0.3608 - val_acc: 0.8620\n",
      "Epoch 29/100\n",
      "22500/22500 [==============================] - 1s 30us/step - loss: 0.2222 - acc: 0.9139 - val_loss: 0.3579 - val_acc: 0.8584\n",
      "Epoch 30/100\n",
      "22500/22500 [==============================] - 1s 23us/step - loss: 0.2183 - acc: 0.9165 - val_loss: 0.3672 - val_acc: 0.8560\n",
      "Epoch 31/100\n",
      "22500/22500 [==============================] - 1s 23us/step - loss: 0.2149 - acc: 0.9172 - val_loss: 0.3711 - val_acc: 0.8544\n",
      "Epoch 32/100\n",
      "22500/22500 [==============================] - 1s 25us/step - loss: 0.2124 - acc: 0.9183 - val_loss: 0.3734 - val_acc: 0.8572\n",
      "Epoch 33/100\n",
      "22500/22500 [==============================] - 1s 38us/step - loss: 0.2080 - acc: 0.9205 - val_loss: 0.3835 - val_acc: 0.8608\n",
      "Epoch 34/100\n",
      "22500/22500 [==============================] - 1s 39us/step - loss: 0.2083 - acc: 0.9187 - val_loss: 0.3744 - val_acc: 0.8620\n",
      "Epoch 35/100\n",
      "22500/22500 [==============================] - 1s 26us/step - loss: 0.2046 - acc: 0.9213 - val_loss: 0.3757 - val_acc: 0.8592\n",
      "Epoch 36/100\n",
      "22500/22500 [==============================] - 1s 38us/step - loss: 0.1997 - acc: 0.9236 - val_loss: 0.3886 - val_acc: 0.8572\n",
      "Epoch 37/100\n",
      "22500/22500 [==============================] - 1s 30us/step - loss: 0.1994 - acc: 0.9250 - val_loss: 0.3810 - val_acc: 0.8580\n",
      "Epoch 38/100\n",
      "22500/22500 [==============================] - 1s 30us/step - loss: 0.1939 - acc: 0.9270 - val_loss: 0.3830 - val_acc: 0.8600\n",
      "Epoch 39/100\n",
      "22500/22500 [==============================] - 1s 23us/step - loss: 0.1931 - acc: 0.9273 - val_loss: 0.4005 - val_acc: 0.8580\n",
      "Epoch 40/100\n",
      "22500/22500 [==============================] - 1s 24us/step - loss: 0.1931 - acc: 0.9266 - val_loss: 0.3908 - val_acc: 0.8604\n",
      "Epoch 41/100\n",
      "22500/22500 [==============================] - 0s 21us/step - loss: 0.1860 - acc: 0.9294 - val_loss: 0.3960 - val_acc: 0.8536\n",
      "Epoch 42/100\n",
      "22500/22500 [==============================] - 1s 22us/step - loss: 0.1877 - acc: 0.9293 - val_loss: 0.3959 - val_acc: 0.8588\n",
      "Epoch 43/100\n",
      "22500/22500 [==============================] - 0s 21us/step - loss: 0.1834 - acc: 0.9330 - val_loss: 0.3934 - val_acc: 0.8528\n",
      "Epoch 44/100\n",
      "22500/22500 [==============================] - 1s 25us/step - loss: 0.1804 - acc: 0.9340 - val_loss: 0.3939 - val_acc: 0.8604\n",
      "Epoch 45/100\n",
      "22500/22500 [==============================] - 1s 35us/step - loss: 0.1787 - acc: 0.9319 - val_loss: 0.4034 - val_acc: 0.8608\n",
      "Epoch 46/100\n",
      "22500/22500 [==============================] - 1s 45us/step - loss: 0.1744 - acc: 0.9349 - val_loss: 0.4080 - val_acc: 0.8568\n",
      "Epoch 47/100\n",
      "22500/22500 [==============================] - 1s 28us/step - loss: 0.1721 - acc: 0.9343 - val_loss: 0.4114 - val_acc: 0.8576\n",
      "Epoch 48/100\n",
      "22500/22500 [==============================] - 1s 32us/step - loss: 0.1652 - acc: 0.9400 - val_loss: 0.4097 - val_acc: 0.8556\n",
      "Epoch 49/100\n",
      "22500/22500 [==============================] - 1s 41us/step - loss: 0.1674 - acc: 0.9378 - val_loss: 0.4482 - val_acc: 0.8532\n",
      "Epoch 50/100\n",
      "22500/22500 [==============================] - 1s 28us/step - loss: 0.1683 - acc: 0.9386 - val_loss: 0.4101 - val_acc: 0.8560\n",
      "Epoch 51/100\n",
      "22500/22500 [==============================] - 1s 29us/step - loss: 0.1660 - acc: 0.9397 - val_loss: 0.4267 - val_acc: 0.8520\n",
      "Epoch 52/100\n",
      "22500/22500 [==============================] - 1s 23us/step - loss: 0.1600 - acc: 0.9407 - val_loss: 0.4306 - val_acc: 0.8520\n",
      "Epoch 53/100\n",
      "22500/22500 [==============================] - 1s 28us/step - loss: 0.1615 - acc: 0.9390 - val_loss: 0.4279 - val_acc: 0.8556\n",
      "Epoch 54/100\n",
      "22500/22500 [==============================] - 1s 23us/step - loss: 0.1592 - acc: 0.9409 - val_loss: 0.4268 - val_acc: 0.8548\n",
      "Epoch 55/100\n",
      "22500/22500 [==============================] - 1s 27us/step - loss: 0.1546 - acc: 0.9419 - val_loss: 0.4338 - val_acc: 0.8544\n",
      "Epoch 56/100\n",
      "22500/22500 [==============================] - 0s 22us/step - loss: 0.1546 - acc: 0.9428 - val_loss: 0.4340 - val_acc: 0.8524\n",
      "Epoch 57/100\n",
      "22500/22500 [==============================] - 1s 23us/step - loss: 0.1521 - acc: 0.9440 - val_loss: 0.4427 - val_acc: 0.8564\n",
      "Epoch 58/100\n",
      "22500/22500 [==============================] - 0s 22us/step - loss: 0.1470 - acc: 0.9466 - val_loss: 0.4438 - val_acc: 0.8528\n",
      "Epoch 59/100\n",
      "22500/22500 [==============================] - 0s 21us/step - loss: 0.1512 - acc: 0.9437 - val_loss: 0.4405 - val_acc: 0.8504\n",
      "Epoch 60/100\n",
      "22500/22500 [==============================] - 1s 24us/step - loss: 0.1478 - acc: 0.9449 - val_loss: 0.4546 - val_acc: 0.8508\n",
      "Epoch 61/100\n",
      "22500/22500 [==============================] - 0s 22us/step - loss: 0.1440 - acc: 0.9459 - val_loss: 0.4462 - val_acc: 0.8500\n",
      "Epoch 62/100\n",
      "22500/22500 [==============================] - 1s 28us/step - loss: 0.1442 - acc: 0.9458 - val_loss: 0.4547 - val_acc: 0.8524\n",
      "Epoch 63/100\n",
      "22500/22500 [==============================] - 0s 21us/step - loss: 0.1435 - acc: 0.9475 - val_loss: 0.4680 - val_acc: 0.8512\n",
      "Epoch 64/100\n",
      "22500/22500 [==============================] - 1s 23us/step - loss: 0.1405 - acc: 0.9466 - val_loss: 0.4648 - val_acc: 0.8548\n",
      "Epoch 65/100\n",
      "22500/22500 [==============================] - 1s 22us/step - loss: 0.1401 - acc: 0.9470 - val_loss: 0.4729 - val_acc: 0.8540\n",
      "Epoch 66/100\n",
      "22500/22500 [==============================] - 1s 25us/step - loss: 0.1380 - acc: 0.9472 - val_loss: 0.4734 - val_acc: 0.8484\n",
      "Epoch 67/100\n",
      "22500/22500 [==============================] - 1s 25us/step - loss: 0.1376 - acc: 0.9473 - val_loss: 0.4838 - val_acc: 0.8532\n",
      "Epoch 68/100\n",
      "22500/22500 [==============================] - 1s 24us/step - loss: 0.1331 - acc: 0.9498 - val_loss: 0.4691 - val_acc: 0.8532\n",
      "Epoch 69/100\n",
      "22500/22500 [==============================] - 1s 22us/step - loss: 0.1339 - acc: 0.9498 - val_loss: 0.4888 - val_acc: 0.8500\n",
      "Epoch 70/100\n",
      "22500/22500 [==============================] - 0s 21us/step - loss: 0.1297 - acc: 0.9517 - val_loss: 0.4894 - val_acc: 0.8500\n",
      "Epoch 71/100\n",
      "22500/22500 [==============================] - 1s 24us/step - loss: 0.1281 - acc: 0.9534 - val_loss: 0.5053 - val_acc: 0.8484\n",
      "Epoch 72/100\n",
      "22500/22500 [==============================] - 1s 24us/step - loss: 0.1289 - acc: 0.9519 - val_loss: 0.4944 - val_acc: 0.8472\n",
      "Epoch 73/100\n",
      "22500/22500 [==============================] - 1s 23us/step - loss: 0.1284 - acc: 0.9524 - val_loss: 0.5081 - val_acc: 0.8500\n",
      "Epoch 74/100\n",
      "22500/22500 [==============================] - 1s 24us/step - loss: 0.1280 - acc: 0.9512 - val_loss: 0.5083 - val_acc: 0.8468\n",
      "Epoch 75/100\n",
      "22500/22500 [==============================] - 1s 24us/step - loss: 0.1214 - acc: 0.9546 - val_loss: 0.5015 - val_acc: 0.8524\n",
      "Epoch 76/100\n",
      "22500/22500 [==============================] - 1s 26us/step - loss: 0.1242 - acc: 0.9526 - val_loss: 0.5185 - val_acc: 0.8496\n",
      "Epoch 77/100\n",
      "22500/22500 [==============================] - 1s 26us/step - loss: 0.1233 - acc: 0.9538 - val_loss: 0.5196 - val_acc: 0.8496\n",
      "Epoch 78/100\n",
      "22500/22500 [==============================] - 1s 26us/step - loss: 0.1233 - acc: 0.9535 - val_loss: 0.5299 - val_acc: 0.8484\n",
      "Epoch 79/100\n",
      "22500/22500 [==============================] - 1s 27us/step - loss: 0.1228 - acc: 0.9529 - val_loss: 0.5157 - val_acc: 0.8488\n",
      "Epoch 80/100\n",
      "22500/22500 [==============================] - 1s 27us/step - loss: 0.1159 - acc: 0.9568 - val_loss: 0.5349 - val_acc: 0.8504\n",
      "Epoch 81/100\n",
      "22500/22500 [==============================] - 1s 27us/step - loss: 0.1132 - acc: 0.9569 - val_loss: 0.5257 - val_acc: 0.8524\n",
      "Epoch 82/100\n",
      "22500/22500 [==============================] - 1s 26us/step - loss: 0.1150 - acc: 0.9555 - val_loss: 0.5493 - val_acc: 0.8496\n",
      "Epoch 83/100\n",
      "22500/22500 [==============================] - 1s 27us/step - loss: 0.1116 - acc: 0.9588 - val_loss: 0.5665 - val_acc: 0.8516\n",
      "Epoch 84/100\n",
      "22500/22500 [==============================] - 1s 27us/step - loss: 0.1142 - acc: 0.9570 - val_loss: 0.5438 - val_acc: 0.8516\n",
      "Epoch 85/100\n",
      "22500/22500 [==============================] - 1s 37us/step - loss: 0.1139 - acc: 0.9565 - val_loss: 0.5525 - val_acc: 0.8540\n",
      "Epoch 86/100\n",
      "22500/22500 [==============================] - 1s 27us/step - loss: 0.1132 - acc: 0.9592 - val_loss: 0.5474 - val_acc: 0.8536\n",
      "Epoch 87/100\n",
      "22500/22500 [==============================] - 1s 28us/step - loss: 0.1093 - acc: 0.9591 - val_loss: 0.5707 - val_acc: 0.8536\n",
      "Epoch 88/100\n",
      "22500/22500 [==============================] - 1s 24us/step - loss: 0.1106 - acc: 0.9577 - val_loss: 0.5584 - val_acc: 0.8496\n",
      "Epoch 89/100\n",
      "22500/22500 [==============================] - 1s 31us/step - loss: 0.1075 - acc: 0.9602 - val_loss: 0.5701 - val_acc: 0.8504\n",
      "Epoch 90/100\n",
      "22500/22500 [==============================] - 1s 27us/step - loss: 0.1068 - acc: 0.9603 - val_loss: 0.5755 - val_acc: 0.8500\n",
      "Epoch 91/100\n",
      "22500/22500 [==============================] - 1s 31us/step - loss: 0.1069 - acc: 0.9582 - val_loss: 0.5835 - val_acc: 0.8508\n",
      "Epoch 92/100\n",
      "22500/22500 [==============================] - 1s 26us/step - loss: 0.1078 - acc: 0.9592 - val_loss: 0.5869 - val_acc: 0.8528\n",
      "Epoch 93/100\n",
      "22500/22500 [==============================] - 1s 29us/step - loss: 0.1065 - acc: 0.9597 - val_loss: 0.5779 - val_acc: 0.8500\n",
      "Epoch 94/100\n",
      "22500/22500 [==============================] - 1s 25us/step - loss: 0.1041 - acc: 0.9616 - val_loss: 0.5921 - val_acc: 0.8516\n",
      "Epoch 95/100\n",
      "22500/22500 [==============================] - 1s 28us/step - loss: 0.1019 - acc: 0.9616 - val_loss: 0.5821 - val_acc: 0.8516\n",
      "Epoch 96/100\n",
      "22500/22500 [==============================] - 1s 29us/step - loss: 0.1018 - acc: 0.9628 - val_loss: 0.6213 - val_acc: 0.8504\n",
      "Epoch 97/100\n",
      "22500/22500 [==============================] - 1s 25us/step - loss: 0.1051 - acc: 0.9610 - val_loss: 0.6084 - val_acc: 0.8492\n",
      "Epoch 98/100\n",
      "22500/22500 [==============================] - 1s 30us/step - loss: 0.1022 - acc: 0.9611 - val_loss: 0.6102 - val_acc: 0.8500\n",
      "Epoch 99/100\n",
      "22500/22500 [==============================] - 1s 24us/step - loss: 0.1006 - acc: 0.9614 - val_loss: 0.5883 - val_acc: 0.8504\n",
      "Epoch 100/100\n",
      "22500/22500 [==============================] - 1s 31us/step - loss: 0.1011 - acc: 0.9626 - val_loss: 0.6302 - val_acc: 0.8516\n"
     ]
    },
    {
     "data": {
      "text/plain": [
       "<keras.callbacks.History at 0x11aac8828>"
      ]
     },
     "execution_count": 24,
     "metadata": {},
     "output_type": "execute_result"
    }
   ],
   "source": [
    "# TODO: Run the model. Feel free to experiment with different batch sizes and number of epochs.\n",
    "model.fit(x=x_train, y=y_train, batch_size=1000, epochs=100, validation_split=0.1, verbose=1)"
   ]
  },
  {
   "cell_type": "markdown",
   "metadata": {},
   "source": [
    "## 6. Evaluating the model\n",
    "This will give you the accuracy of the model, as evaluated on the testing set. Can you get something over 85%?"
   ]
  },
  {
   "cell_type": "code",
   "execution_count": 25,
   "metadata": {},
   "outputs": [
    {
     "name": "stdout",
     "output_type": "stream",
     "text": [
      "Accuracy:  0.85052\n"
     ]
    }
   ],
   "source": [
    "score = model.evaluate(x_test, y_test, verbose=0)\n",
    "print(\"Accuracy: \", score[1])"
   ]
  },
  {
   "cell_type": "code",
   "execution_count": null,
   "metadata": {},
   "outputs": [],
   "source": []
  }
 ],
 "metadata": {
  "kernelspec": {
   "display_name": "udacity_deep_learning",
   "language": "python",
   "name": "udacity_deep_learning"
  },
  "language_info": {
   "codemirror_mode": {
    "name": "ipython",
    "version": 3
   },
   "file_extension": ".py",
   "mimetype": "text/x-python",
   "name": "python",
   "nbconvert_exporter": "python",
   "pygments_lexer": "ipython3",
   "version": "3.6.1"
  }
 },
 "nbformat": 4,
 "nbformat_minor": 2
}

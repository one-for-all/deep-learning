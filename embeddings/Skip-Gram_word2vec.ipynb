{
 "cells": [
  {
   "cell_type": "markdown",
   "metadata": {},
   "source": [
    "# Skip-gram word2vec\n",
    "\n",
    "In this notebook, I'll lead you through using TensorFlow to implement the word2vec algorithm using the skip-gram architecture. By implementing this, you'll learn about embedding words for use in natural language processing. This will come in handy when dealing with things like machine translation.\n",
    "\n",
    "## Readings\n",
    "\n",
    "Here are the resources I used to build this notebook. I suggest reading these either beforehand or while you're working on this material.\n",
    "\n",
    "* A really good [conceptual overview](http://mccormickml.com/2016/04/19/word2vec-tutorial-the-skip-gram-model/) of word2vec from Chris McCormick \n",
    "* [First word2vec paper](https://arxiv.org/pdf/1301.3781.pdf) from Mikolov et al.\n",
    "* [NIPS paper](http://papers.nips.cc/paper/5021-distributed-representations-of-words-and-phrases-and-their-compositionality.pdf) with improvements for word2vec also from Mikolov et al.\n",
    "* An [implementation of word2vec](http://www.thushv.com/natural_language_processing/word2vec-part-1-nlp-with-deep-learning-with-tensorflow-skip-gram/) from Thushan Ganegedara\n",
    "* TensorFlow [word2vec tutorial](https://www.tensorflow.org/tutorials/word2vec)\n",
    "\n",
    "## Word embeddings\n",
    "\n",
    "When you're dealing with words in text, you end up with tens of thousands of classes to predict, one for each word. Trying to one-hot encode these words is massively inefficient, you'll have one element set to 1 and the other 50,000 set to 0. The matrix multiplication going into the first hidden layer will have almost all of the resulting values be zero. This a huge waste of computation. \n",
    "\n",
    "![one-hot encodings](assets/one_hot_encoding.png)\n",
    "\n",
    "To solve this problem and greatly increase the efficiency of our networks, we use what are called embeddings. Embeddings are just a fully connected layer like you've seen before. We call this layer the embedding layer and the weights are embedding weights. We skip the multiplication into the embedding layer by instead directly grabbing the hidden layer values from the weight matrix. We can do this because the multiplication of a one-hot encoded vector with a matrix returns the row of the matrix corresponding the index of the \"on\" input unit.\n",
    "\n",
    "![lookup](assets/lookup_matrix.png)\n",
    "\n",
    "Instead of doing the matrix multiplication, we use the weight matrix as a lookup table. We encode the words as integers, for example \"heart\" is encoded as 958, \"mind\" as 18094. Then to get hidden layer values for \"heart\", you just take the 958th row of the embedding matrix. This process is called an **embedding lookup** and the number of hidden units is the **embedding dimension**.\n",
    "\n",
    "<img src='assets/tokenize_lookup.png' width=500>\n",
    " \n",
    "There is nothing magical going on here. The embedding lookup table is just a weight matrix. The embedding layer is just a hidden layer. The lookup is just a shortcut for the matrix multiplication. The lookup table is trained just like any weight matrix as well.\n",
    "\n",
    "Embeddings aren't only used for words of course. You can use them for any model where you have a massive number of classes. A particular type of model called **Word2Vec** uses the embedding layer to find vector representations of words that contain semantic meaning.\n",
    "\n"
   ]
  },
  {
   "cell_type": "markdown",
   "metadata": {},
   "source": [
    "## Word2Vec\n",
    "\n",
    "The word2vec algorithm finds much more efficient representations by finding vectors that represent the words. These vectors also contain semantic information about the words. Words that show up in similar contexts, such as \"black\", \"white\", and \"red\" will have vectors near each other. There are two architectures for implementing word2vec, CBOW (Continuous Bag-Of-Words) and Skip-gram.\n",
    "\n",
    "<img src=\"assets/word2vec_architectures.png\" width=\"500\">\n",
    "\n",
    "In this implementation, we'll be using the skip-gram architecture because it performs better than CBOW. Here, we pass in a word and try to predict the words surrounding it in the text. In this way, we can train the network to learn representations for words that show up in similar contexts.\n",
    "\n",
    "First up, importing packages."
   ]
  },
  {
   "cell_type": "code",
   "execution_count": 1,
   "metadata": {},
   "outputs": [
    {
     "name": "stderr",
     "output_type": "stream",
     "text": [
      "/Users/jianan/Developer/DeepLearning/udacity/venv/lib/python3.6/site-packages/h5py/__init__.py:36: FutureWarning: Conversion of the second argument of issubdtype from `float` to `np.floating` is deprecated. In future, it will be treated as `np.float64 == np.dtype(float).type`.\n",
      "  from ._conv import register_converters as _register_converters\n"
     ]
    }
   ],
   "source": [
    "import time\n",
    "\n",
    "import numpy as np\n",
    "import tensorflow as tf\n",
    "\n",
    "import utils"
   ]
  },
  {
   "cell_type": "markdown",
   "metadata": {},
   "source": [
    "Load the [text8 dataset](http://mattmahoney.net/dc/textdata.html), a file of cleaned up Wikipedia articles from Matt Mahoney. The next cell will download the data set to the `data` folder. Then you can extract it and delete the archive file to save storage space."
   ]
  },
  {
   "cell_type": "code",
   "execution_count": 2,
   "metadata": {},
   "outputs": [
    {
     "name": "stderr",
     "output_type": "stream",
     "text": [
      "Text8 Dataset: 31.4MB [00:52, 596kB/s]                             \n"
     ]
    }
   ],
   "source": [
    "from urllib.request import urlretrieve\n",
    "from os.path import isfile, isdir\n",
    "from tqdm import tqdm\n",
    "import zipfile\n",
    "\n",
    "dataset_folder_path = 'data'\n",
    "dataset_filename = 'text8.zip'\n",
    "dataset_name = 'Text8 Dataset'\n",
    "\n",
    "class DLProgress(tqdm):\n",
    "    last_block = 0\n",
    "\n",
    "    def hook(self, block_num=1, block_size=1, total_size=None):\n",
    "        self.total = total_size\n",
    "        self.update((block_num - self.last_block) * block_size)\n",
    "        self.last_block = block_num\n",
    "\n",
    "if not isfile(dataset_filename):\n",
    "    with DLProgress(unit='B', unit_scale=True, miniters=1, desc=dataset_name) as pbar:\n",
    "        urlretrieve(\n",
    "            'http://mattmahoney.net/dc/text8.zip',\n",
    "            dataset_filename,\n",
    "            pbar.hook)\n",
    "\n",
    "if not isdir(dataset_folder_path):\n",
    "    with zipfile.ZipFile(dataset_filename) as zip_ref:\n",
    "        zip_ref.extractall(dataset_folder_path)\n",
    "        \n",
    "with open('data/text8') as f:\n",
    "    text = f.read()"
   ]
  },
  {
   "cell_type": "markdown",
   "metadata": {},
   "source": [
    "## Preprocessing\n",
    "\n",
    "Here I'm fixing up the text to make training easier. This comes from the `utils` module I wrote. The `preprocess` function coverts any punctuation into tokens, so a period is changed to ` <PERIOD> `. In this data set, there aren't any periods, but it will help in other NLP problems. I'm also removing all words that show up five or fewer times in the dataset. This will greatly reduce issues due to noise in the data and improve the quality of the vector representations. If you want to write your own functions for this stuff, go for it."
   ]
  },
  {
   "cell_type": "code",
   "execution_count": 3,
   "metadata": {},
   "outputs": [
    {
     "name": "stdout",
     "output_type": "stream",
     "text": [
      "['anarchism', 'originated', 'as', 'a', 'term', 'of', 'abuse', 'first', 'used', 'against', 'early', 'working', 'class', 'radicals', 'including', 'the', 'diggers', 'of', 'the', 'english', 'revolution', 'and', 'the', 'sans', 'culottes', 'of', 'the', 'french', 'revolution', 'whilst']\n"
     ]
    }
   ],
   "source": [
    "words = utils.preprocess(text)\n",
    "print(words[:30])"
   ]
  },
  {
   "cell_type": "code",
   "execution_count": 4,
   "metadata": {},
   "outputs": [
    {
     "name": "stdout",
     "output_type": "stream",
     "text": [
      "Total words: 16680599\n",
      "Unique words: 63641\n"
     ]
    }
   ],
   "source": [
    "print(\"Total words: {}\".format(len(words)))\n",
    "print(\"Unique words: {}\".format(len(set(words))))"
   ]
  },
  {
   "cell_type": "markdown",
   "metadata": {},
   "source": [
    "And here I'm creating dictionaries to convert words to integers and backwards, integers to words. The integers are assigned in descending frequency order, so the most frequent word (\"the\") is given the integer 0 and the next most frequent is 1 and so on. The words are converted to integers and stored in the list `int_words`."
   ]
  },
  {
   "cell_type": "code",
   "execution_count": 5,
   "metadata": {},
   "outputs": [],
   "source": [
    "vocab_to_int, int_to_vocab = utils.create_lookup_tables(words)\n",
    "int_words = [vocab_to_int[word] for word in words]"
   ]
  },
  {
   "cell_type": "markdown",
   "metadata": {},
   "source": [
    "## Subsampling\n",
    "\n",
    "Words that show up often such as \"the\", \"of\", and \"for\" don't provide much context to the nearby words. If we discard some of them, we can remove some of the noise from our data and in return get faster training and better representations. This process is called subsampling by Mikolov. For each word $w_i$ in the training set, we'll discard it with probability given by \n",
    "\n",
    "$$ P(w_i) = 1 - \\sqrt{\\frac{t}{f(w_i)}} $$\n",
    "\n",
    "where $t$ is a threshold parameter and $f(w_i)$ is the frequency of word $w_i$ in the total dataset.\n",
    "\n",
    "I'm going to leave this up to you as an exercise. This is more of a programming challenge, than about deep learning specifically. But, being able to prepare your data for your network is an important skill to have. Check out my solution to see how I did it.\n",
    "\n",
    "> **Exercise:** Implement subsampling for the words in `int_words`. That is, go through `int_words` and discard each word given the probablility $P(w_i)$ shown above. Note that $P(w_i)$ is the probability that a word is discarded. Assign the subsampled data to `train_words`."
   ]
  },
  {
   "cell_type": "code",
   "execution_count": 6,
   "metadata": {},
   "outputs": [],
   "source": [
    "## Your code here\n",
    "from collections import Counter\n",
    "import random\n",
    "cnt = Counter(int_words)\n",
    "\n",
    "def discard_prob(frequency, t):\n",
    "    return 1-np.sqrt(t/frequency)\n",
    "\n",
    "# The final subsampled word list\n",
    "train_words = [word for word in int_words if random.random() >= discard_prob(cnt[word]/len(int_words), 1e-5)]"
   ]
  },
  {
   "cell_type": "markdown",
   "metadata": {},
   "source": [
    "## Making batches"
   ]
  },
  {
   "cell_type": "markdown",
   "metadata": {},
   "source": [
    "Now that our data is in good shape, we need to get it into the proper form to pass it into our network. With the skip-gram architecture, for each word in the text, we want to grab all the words in a window around that word, with size $C$. \n",
    "\n",
    "From [Mikolov et al.](https://arxiv.org/pdf/1301.3781.pdf): \n",
    "\n",
    "\"Since the more distant words are usually less related to the current word than those close to it, we give less weight to the distant words by sampling less from those words in our training examples... If we choose $C = 5$, for each training word we will select randomly a number $R$ in range $< 1; C >$, and then use $R$ words from history and $R$ words from the future of the current word as correct labels.\"\n",
    "\n",
    "> **Exercise:** Implement a function `get_target` that receives a list of words, an index, and a window size, then returns a list of words in the window around the index. Make sure to use the algorithm described above, where you choose a random number of words from the window."
   ]
  },
  {
   "cell_type": "code",
   "execution_count": 8,
   "metadata": {},
   "outputs": [],
   "source": [
    "def get_target(words, idx, window_size=5):\n",
    "    ''' Get a list of words in a window around an index. '''\n",
    "    \n",
    "    # Your code here\n",
    "    window_size = random.randint(1, window_size)\n",
    "    start_index = idx-window_size if (idx-window_size) > 0 else 0\n",
    "    return words[start_index:idx] + words[idx+1:idx+1+window_size]"
   ]
  },
  {
   "cell_type": "markdown",
   "metadata": {},
   "source": [
    "Here's a function that returns batches for our network. The idea is that it grabs `batch_size` words from a words list. Then for each of those words, it gets the target words in the window. I haven't found a way to pass in a random number of target words and get it to work with the architecture, so I make one row per input-target pair. This is a generator function by the way, helps save memory."
   ]
  },
  {
   "cell_type": "code",
   "execution_count": 9,
   "metadata": {},
   "outputs": [],
   "source": [
    "def get_batches(words, batch_size, window_size=5):\n",
    "    ''' Create a generator of word batches as a tuple (inputs, targets) '''\n",
    "    \n",
    "    n_batches = len(words)//batch_size\n",
    "    \n",
    "    # only full batches\n",
    "    words = words[:n_batches*batch_size]\n",
    "    \n",
    "    for idx in range(0, len(words), batch_size):\n",
    "        x, y = [], []\n",
    "        batch = words[idx:idx+batch_size]\n",
    "        for ii in range(len(batch)):\n",
    "            batch_x = batch[ii]\n",
    "            batch_y = get_target(batch, ii, window_size)\n",
    "            y.extend(batch_y)\n",
    "            x.extend([batch_x]*len(batch_y))\n",
    "        yield x, y\n",
    "    "
   ]
  },
  {
   "cell_type": "markdown",
   "metadata": {},
   "source": [
    "## Building the graph\n",
    "\n",
    "From [Chris McCormick's blog](http://mccormickml.com/2016/04/19/word2vec-tutorial-the-skip-gram-model/), we can see the general structure of our network.\n",
    "![embedding_network](./assets/skip_gram_net_arch.png)\n",
    "\n",
    "The input words are passed in as integers. This will go into a hidden layer of linear units, then into a softmax layer. We'll use the softmax layer to make a prediction like normal.\n",
    "\n",
    "The idea here is to train the hidden layer weight matrix to find efficient representations for our words. We can discard the softmax layer becuase we don't really care about making predictions with this network. We just want the embedding matrix so we can use it in other networks we build from the dataset.\n",
    "\n",
    "I'm going to have you build the graph in stages now. First off, creating the `inputs` and `labels` placeholders like normal.\n",
    "\n",
    "> **Exercise:** Assign `inputs` and `labels` using `tf.placeholder`. We're going to be passing in integers, so set the data types to `tf.int32`. The batches we're passing in will have varying sizes, so set the batch sizes to [`None`]. To make things work later, you'll need to set the second dimension of `labels` to `None` or `1`."
   ]
  },
  {
   "cell_type": "code",
   "execution_count": 18,
   "metadata": {},
   "outputs": [],
   "source": [
    "train_graph = tf.Graph()\n",
    "with train_graph.as_default():\n",
    "    inputs = tf.placeholder(tf.int32, shape=[None])\n",
    "    labels = tf.placeholder(tf.int32, shape=[None, None])"
   ]
  },
  {
   "cell_type": "markdown",
   "metadata": {},
   "source": [
    "## Embedding\n",
    "\n"
   ]
  },
  {
   "cell_type": "markdown",
   "metadata": {
    "collapsed": true
   },
   "source": [
    "The embedding matrix has a size of the number of words by the number of units in the hidden layer. So, if you have 10,000 words and 300 hidden units, the matrix will have size $10,000 \\times 300$. Remember that we're using tokenized data for our inputs, usually as integers, where the number of tokens is the number of words in our vocabulary.\n",
    "\n",
    "\n",
    "> **Exercise:** Tensorflow provides a convenient function [`tf.nn.embedding_lookup`](https://www.tensorflow.org/api_docs/python/tf/nn/embedding_lookup) that does this lookup for us. You pass in the embedding matrix and a tensor of integers, then it returns rows in the matrix corresponding to those integers. Below, set the number of embedding features you'll use (200 is a good start), create the embedding matrix variable, and use `tf.nn.embedding_lookup` to get the embedding tensors. For the embedding matrix, I suggest you initialize it with a uniform random numbers between -1 and 1 using [tf.random_uniform](https://www.tensorflow.org/api_docs/python/tf/random_uniform)."
   ]
  },
  {
   "cell_type": "code",
   "execution_count": 19,
   "metadata": {},
   "outputs": [],
   "source": [
    "n_vocab = len(int_to_vocab)\n",
    "n_embedding =  200 # Number of embedding features \n",
    "with train_graph.as_default():\n",
    "    embedding = tf.Variable(tf.random_uniform((n_vocab, n_embedding), minval=-1, maxval=1))# create embedding weight matrix here\n",
    "    embed = tf.nn.embedding_lookup(embedding, inputs)# use tf.nn.embedding_lookup to get the hidden layer output"
   ]
  },
  {
   "cell_type": "markdown",
   "metadata": {},
   "source": [
    "## Negative sampling\n",
    "\n"
   ]
  },
  {
   "cell_type": "markdown",
   "metadata": {},
   "source": [
    "For every example we give the network, we train it using the output from the softmax layer. That means for each input, we're making very small changes to millions of weights even though we only have one true example. This makes training the network very inefficient. We can approximate the loss from the softmax layer by only updating a small subset of all the weights at once. We'll update the weights for the correct label, but only a small number of incorrect labels. This is called [\"negative sampling\"](http://papers.nips.cc/paper/5021-distributed-representations-of-words-and-phrases-and-their-compositionality.pdf). Tensorflow has a convenient function to do this, [`tf.nn.sampled_softmax_loss`](https://www.tensorflow.org/api_docs/python/tf/nn/sampled_softmax_loss).\n",
    "\n",
    "> **Exercise:** Below, create weights and biases for the softmax layer. Then, use [`tf.nn.sampled_softmax_loss`](https://www.tensorflow.org/api_docs/python/tf/nn/sampled_softmax_loss) to calculate the loss. Be sure to read the documentation to figure out how it works."
   ]
  },
  {
   "cell_type": "code",
   "execution_count": 21,
   "metadata": {},
   "outputs": [],
   "source": [
    "# Number of negative labels to sample\n",
    "n_sampled = 100\n",
    "with train_graph.as_default():\n",
    "    softmax_w = tf.Variable(tf.truncated_normal((n_vocab, n_embedding), stddev=0.1))# create softmax weight matrix here\n",
    "    softmax_b = tf.Variable(tf.zeros(n_vocab))# create softmax biases here\n",
    "    \n",
    "    # Calculate the loss using negative sampling\n",
    "    loss = tf.nn.sampled_softmax_loss(softmax_w, softmax_b, labels, embed, n_sampled, n_vocab)\n",
    "    \n",
    "    cost = tf.reduce_mean(loss)\n",
    "    optimizer = tf.train.AdamOptimizer().minimize(cost)"
   ]
  },
  {
   "cell_type": "markdown",
   "metadata": {},
   "source": [
    "## Validation\n",
    "\n",
    "This code is from Thushan Ganegedara's implementation. Here we're going to choose a few common words and few uncommon words. Then, we'll print out the closest words to them. It's a nice way to check that our embedding table is grouping together words with similar semantic meanings."
   ]
  },
  {
   "cell_type": "code",
   "execution_count": 22,
   "metadata": {},
   "outputs": [
    {
     "name": "stdout",
     "output_type": "stream",
     "text": [
      "WARNING:tensorflow:From <ipython-input-22-2aa168c49a56>:13: calling reduce_sum (from tensorflow.python.ops.math_ops) with keep_dims is deprecated and will be removed in a future version.\n",
      "Instructions for updating:\n",
      "keep_dims is deprecated, use keepdims instead\n"
     ]
    }
   ],
   "source": [
    "with train_graph.as_default():\n",
    "    ## From Thushan Ganegedara's implementation\n",
    "    valid_size = 16 # Random set of words to evaluate similarity on.\n",
    "    valid_window = 100\n",
    "    # pick 8 samples from (0,100) and (1000,1100) each ranges. lower id implies more frequent \n",
    "    valid_examples = np.array(random.sample(range(valid_window), valid_size//2))\n",
    "    valid_examples = np.append(valid_examples, \n",
    "                               random.sample(range(1000,1000+valid_window), valid_size//2))\n",
    "\n",
    "    valid_dataset = tf.constant(valid_examples, dtype=tf.int32)\n",
    "    \n",
    "    # We use the cosine distance:\n",
    "    norm = tf.sqrt(tf.reduce_sum(tf.square(embedding), 1, keep_dims=True))\n",
    "    normalized_embedding = embedding / norm\n",
    "    valid_embedding = tf.nn.embedding_lookup(normalized_embedding, valid_dataset)\n",
    "    similarity = tf.matmul(valid_embedding, tf.transpose(normalized_embedding))"
   ]
  },
  {
   "cell_type": "code",
   "execution_count": 23,
   "metadata": {},
   "outputs": [],
   "source": [
    "# If the checkpoints directory doesn't exist:\n",
    "!mkdir checkpoints"
   ]
  },
  {
   "cell_type": "markdown",
   "metadata": {},
   "source": [
    "## Training\n",
    "\n",
    "Below is the code to train the network. Every 100 batches it reports the training loss. Every 1000 batches, it'll print out the validation words."
   ]
  },
  {
   "cell_type": "code",
   "execution_count": 24,
   "metadata": {},
   "outputs": [
    {
     "name": "stdout",
     "output_type": "stream",
     "text": [
      "Epoch 1/10 Iteration: 100 Avg. Training loss: 5.6236 0.3918 sec/batch\n",
      "Epoch 1/10 Iteration: 200 Avg. Training loss: 5.6069 0.3754 sec/batch\n",
      "Epoch 1/10 Iteration: 300 Avg. Training loss: 5.4432 0.3628 sec/batch\n",
      "Epoch 1/10 Iteration: 400 Avg. Training loss: 5.5423 0.3576 sec/batch\n",
      "Epoch 1/10 Iteration: 500 Avg. Training loss: 5.4485 0.3878 sec/batch\n",
      "Epoch 1/10 Iteration: 600 Avg. Training loss: 5.5015 0.3685 sec/batch\n",
      "Epoch 1/10 Iteration: 700 Avg. Training loss: 5.4954 0.3701 sec/batch\n",
      "Epoch 1/10 Iteration: 800 Avg. Training loss: 5.4988 0.3954 sec/batch\n",
      "Epoch 1/10 Iteration: 900 Avg. Training loss: 5.4311 0.4366 sec/batch\n",
      "Epoch 1/10 Iteration: 1000 Avg. Training loss: 5.3893 0.4900 sec/batch\n",
      "Nearest to b: decorum, hilaire, tio, corinne, descriptive, reportedly, section, snoopy,\n",
      "Nearest to zero: lookahead, rainfall, establishment, chapters, curate, restructured, horse, dreyfuss,\n",
      "Nearest to with: counterexample, spending, inescapable, rice, polities, prejudice, woodrow, earhart,\n",
      "Nearest to when: signified, resonated, sieges, issue, destry, franconian, namek, illustrations,\n",
      "Nearest to state: pitting, guile, chola, tamburlaine, kouchner, immortal, driest, democritus,\n",
      "Nearest to often: transcended, webs, revitalize, gaston, uucp, incremented, bret, puget,\n",
      "Nearest to other: hoosiers, cmd, betrayed, taking, gholas, gazelle, lambeau, dum,\n",
      "Nearest to only: gladiatorial, naur, aeacus, alertness, captain, impression, pioneered, tonkin,\n",
      "Nearest to mainly: gcd, bakassi, gettier, stifling, rift, stereotypically, vapors, vaccinated,\n",
      "Nearest to arts: associating, segmenting, mammal, facilities, degenerated, himmelreich, rinzai, multipath,\n",
      "Nearest to additional: haven, monrovia, gwendolyn, yields, get, genetics, causative, dead,\n",
      "Nearest to hold: respectfully, distinguished, lyon, wageningen, namesakes, antipodal, wilford, kamala,\n",
      "Nearest to question: mani, nesbitt, bakongo, pritsak, baldness, superiore, ayers, jellyfish,\n",
      "Nearest to notes: haeckel, uke, fudge, michener, suppression, snow, yemen, linguists,\n",
      "Nearest to mathematics: zeng, angeles, onward, basket, simms, banyan, samsung, mane,\n",
      "Nearest to running: rotherhithe, carnage, steppenwolf, colampadius, axels, gazelle, bartholomew, hainaut,\n",
      "Epoch 1/10 Iteration: 1100 Avg. Training loss: 5.4435 0.4243 sec/batch\n",
      "Epoch 1/10 Iteration: 1200 Avg. Training loss: 5.3629 0.4148 sec/batch\n",
      "Epoch 1/10 Iteration: 1300 Avg. Training loss: 5.2939 0.3840 sec/batch\n",
      "Epoch 1/10 Iteration: 1400 Avg. Training loss: 5.2294 0.4017 sec/batch\n",
      "Epoch 1/10 Iteration: 1500 Avg. Training loss: 5.1818 0.4290 sec/batch\n",
      "Epoch 1/10 Iteration: 1600 Avg. Training loss: 5.1512 0.4277 sec/batch\n",
      "Epoch 1/10 Iteration: 1700 Avg. Training loss: 5.0652 0.3576 sec/batch\n",
      "Epoch 1/10 Iteration: 1800 Avg. Training loss: 5.0600 0.4239 sec/batch\n",
      "Epoch 1/10 Iteration: 1900 Avg. Training loss: 5.0187 0.4172 sec/batch\n",
      "Epoch 1/10 Iteration: 2000 Avg. Training loss: 4.9880 0.4069 sec/batch\n",
      "Nearest to b: reportedly, british, decorum, drama, corinne, hilaire, section, faint,\n",
      "Nearest to zero: rainfall, establishment, lookahead, chapters, building, act, horse, curate,\n",
      "Nearest to with: spending, counterexample, prejudice, woodrow, rice, polities, inescapable, where,\n",
      "Nearest to when: issue, story, signified, fragment, franconian, sieges, instances, breakthrough,\n",
      "Nearest to state: british, guile, immortal, separated, merits, tamburlaine, indigenous, cannibalistic,\n",
      "Nearest to often: transcended, versus, followed, modern, some, revitalize, bret, virtue,\n",
      "Nearest to other: taking, hoosiers, betrayed, cmd, inspiration, lambeau, easier, thereby,\n",
      "Nearest to only: pioneered, twelve, impression, captain, gladiatorial, aeacus, penultimate, alertness,\n",
      "Nearest to mainly: source, bakassi, gcd, feature, rift, annually, agnostic, daughters,\n",
      "Nearest to arts: facilities, prevent, presidency, associating, fortification, creation, hopes, nbc,\n",
      "Nearest to additional: haven, genetics, yields, get, dead, gwendolyn, synthesized, existence,\n",
      "Nearest to hold: respectfully, distinguished, lyon, region, wageningen, marxist, islamic, wilford,\n",
      "Nearest to question: mani, following, formerly, nesbitt, purpose, themselves, rykov, president,\n",
      "Nearest to notes: fudge, uke, haeckel, honest, embarrassed, suppression, yemen, blues,\n",
      "Nearest to mathematics: onward, angeles, create, zeng, basket, samsung, mane, possess,\n",
      "Nearest to running: rotherhithe, carnage, out, promoted, steppenwolf, bartholomew, taiga, modifies,\n",
      "Epoch 1/10 Iteration: 2100 Avg. Training loss: 4.9383 0.4253 sec/batch\n",
      "Epoch 1/10 Iteration: 2200 Avg. Training loss: 4.8824 0.4124 sec/batch\n",
      "Epoch 1/10 Iteration: 2300 Avg. Training loss: 4.8755 0.4157 sec/batch\n",
      "Epoch 1/10 Iteration: 2400 Avg. Training loss: 4.8805 0.4121 sec/batch\n",
      "Epoch 1/10 Iteration: 2500 Avg. Training loss: 4.8204 0.3736 sec/batch\n",
      "Epoch 1/10 Iteration: 2600 Avg. Training loss: 4.8329 0.3634 sec/batch\n",
      "Epoch 1/10 Iteration: 2700 Avg. Training loss: 4.7947 0.4464 sec/batch\n",
      "Epoch 1/10 Iteration: 2800 Avg. Training loss: 4.7924 0.5154 sec/batch\n",
      "Epoch 1/10 Iteration: 2900 Avg. Training loss: 4.7871 0.4518 sec/batch\n",
      "Epoch 1/10 Iteration: 3000 Avg. Training loss: 4.7751 0.4461 sec/batch\n",
      "Nearest to b: british, decorum, faint, reportedly, drama, section, hilaire, corinne,\n",
      "Nearest to zero: rainfall, establishment, lookahead, population, building, chapters, woodland, vincent,\n",
      "Nearest to with: rice, spending, woodrow, unfolded, polities, aiming, inescapable, counterexample,\n",
      "Nearest to when: signified, illustrations, resonated, sieges, issue, story, fragment, licences,\n",
      "Nearest to state: immortal, merits, separated, guile, fifteenth, british, dna, lisbon,\n",
      "Nearest to often: transcended, virtue, gaston, modern, uucp, revitalize, bret, some,\n",
      "Nearest to other: taking, hoosiers, betrayed, cmd, easier, lambeau, inspiration, saharan,\n",
      "Nearest to only: gladiatorial, impression, pioneered, twelve, captain, acquisition, aeacus, night,\n",
      "Nearest to mainly: gcd, priced, rift, daughters, stifling, agnostic, source, bakassi,\n",
      "Nearest to arts: facilities, presidency, associating, nbc, prevent, hopes, fortification, creation,\n",
      "Nearest to additional: haven, yields, genetics, google, causative, fairy, get, gwendolyn,\n",
      "Nearest to hold: respectfully, distinguished, lyon, wageningen, wilford, islamic, exist, muscles,\n",
      "Nearest to question: mani, nesbitt, repeal, following, showed, formerly, bakongo, baldness,\n",
      "Nearest to notes: fudge, honest, suppression, haeckel, embarrassed, uke, blues, linguists,\n",
      "Nearest to mathematics: onward, angeles, create, mane, possess, basket, zeng, samsung,\n",
      "Nearest to running: rotherhithe, carnage, restoring, out, steppenwolf, promoted, bartholomew, oed,\n",
      "Epoch 1/10 Iteration: 3100 Avg. Training loss: 4.7600 0.4356 sec/batch\n",
      "Epoch 1/10 Iteration: 3200 Avg. Training loss: 4.7661 0.3917 sec/batch\n",
      "Epoch 1/10 Iteration: 3300 Avg. Training loss: 4.7033 0.3880 sec/batch\n",
      "Epoch 1/10 Iteration: 3400 Avg. Training loss: 4.6664 0.4021 sec/batch\n",
      "Epoch 1/10 Iteration: 3500 Avg. Training loss: 4.7446 0.4343 sec/batch\n",
      "Epoch 1/10 Iteration: 3600 Avg. Training loss: 4.7109 0.4098 sec/batch\n",
      "Epoch 1/10 Iteration: 3700 Avg. Training loss: 4.7046 0.3752 sec/batch\n",
      "Epoch 1/10 Iteration: 3800 Avg. Training loss: 4.7491 0.3842 sec/batch\n",
      "Epoch 1/10 Iteration: 3900 Avg. Training loss: 4.7013 0.4472 sec/batch\n",
      "Epoch 1/10 Iteration: 4000 Avg. Training loss: 4.6722 0.4788 sec/batch\n",
      "Nearest to b: british, decorum, seven, faint, hilaire, clarence, dignity, corinne,\n",
      "Nearest to zero: rainfall, population, six, lookahead, fillmore, woodland, capita, eight,\n",
      "Nearest to with: rice, unfolded, polities, turnaround, woodrow, spending, counterexample, nash,\n",
      "Nearest to when: signified, illustrations, resonated, jakarta, franconian, sieges, issue, destry,\n",
      "Nearest to state: immortal, chola, fifteenth, lisbon, merits, separated, guile, pitting,\n",
      "Nearest to often: transcended, modern, virtue, webs, pesach, gaston, racially, revitalize,\n",
      "Nearest to other: hoosiers, taking, cmd, betrayed, easier, lambeau, argue, expanse,\n",
      "Nearest to only: gladiatorial, impression, pioneered, tonkin, acquisition, aeacus, captain, twelve,\n",
      "Nearest to mainly: gcd, priced, stifling, daughters, gettier, agnostic, rift, ludwig,\n",
      "Nearest to arts: facilities, associating, presidency, richmond, degenerated, mammal, loot, hopes,\n",
      "Nearest to additional: haven, causative, yields, genetics, monrovia, google, gwendolyn, omniscient,\n",
      "Nearest to hold: respectfully, distinguished, lyon, namesakes, unlawful, wilford, jihad, antipodal,\n",
      "Nearest to question: mani, nesbitt, repeal, subroutines, pritsak, baldness, showed, ayers,\n",
      "Nearest to notes: fudge, suppression, haeckel, honest, linguists, embarrassed, uke, blues,\n",
      "Nearest to mathematics: onward, angeles, basket, mane, create, zeng, samsung, possess,\n",
      "Nearest to running: rotherhithe, restoring, constitutionality, steppenwolf, carnage, bartholomew, axels, hainaut,\n"
     ]
    },
    {
     "name": "stdout",
     "output_type": "stream",
     "text": [
      "Epoch 1/10 Iteration: 4100 Avg. Training loss: 4.6807 0.3736 sec/batch\n",
      "Epoch 1/10 Iteration: 4200 Avg. Training loss: 4.6620 0.3561 sec/batch\n",
      "Epoch 1/10 Iteration: 4300 Avg. Training loss: 4.6327 0.3931 sec/batch\n",
      "Epoch 1/10 Iteration: 4400 Avg. Training loss: 4.6418 0.3872 sec/batch\n",
      "Epoch 1/10 Iteration: 4500 Avg. Training loss: 4.6613 0.3842 sec/batch\n",
      "Epoch 1/10 Iteration: 4600 Avg. Training loss: 4.6390 0.3834 sec/batch\n",
      "Epoch 2/10 Iteration: 4700 Avg. Training loss: 4.5966 0.2631 sec/batch\n",
      "Epoch 2/10 Iteration: 4800 Avg. Training loss: 4.5647 0.3593 sec/batch\n",
      "Epoch 2/10 Iteration: 4900 Avg. Training loss: 4.5151 0.3579 sec/batch\n",
      "Epoch 2/10 Iteration: 5000 Avg. Training loss: 4.5014 0.3741 sec/batch\n",
      "Nearest to b: seven, recipient, d, british, clarence, one, author, decorum,\n",
      "Nearest to zero: rainfall, population, six, lookahead, annie, woodland, fillmore, capita,\n",
      "Nearest to with: rice, turnaround, unfolded, polities, spending, counterexample, aiming, where,\n",
      "Nearest to when: signified, resonated, illustrations, sieges, franconian, destry, jakarta, licences,\n",
      "Nearest to state: pitting, chola, immortal, fifteenth, najibullah, lisbon, erode, salk,\n",
      "Nearest to often: webs, transcended, pesach, virtue, some, modern, racially, transmitting,\n",
      "Nearest to other: hoosiers, cmd, taking, betrayed, easier, expanse, deadlock, accelerating,\n",
      "Nearest to only: gladiatorial, impression, alertness, pioneered, aeacus, acquisition, tonkin, naur,\n",
      "Nearest to mainly: gcd, priced, stifling, unseen, gettier, agnostic, daughters, rift,\n",
      "Nearest to arts: wedgwood, degenerated, loot, hopes, grays, mammal, fretted, facilities,\n",
      "Nearest to additional: yields, causative, haven, genetics, monrovia, omniscient, occidental, scarpa,\n",
      "Nearest to hold: respectfully, distinguished, namesakes, unlawful, antipodal, lyon, jihad, wilford,\n",
      "Nearest to question: mani, nesbitt, feodor, eukaryotic, subroutines, idea, repeal, pritsak,\n",
      "Nearest to notes: fudge, haeckel, suppression, honest, uke, linguists, embarrassed, sagan,\n",
      "Nearest to mathematics: create, algebraic, onward, mane, samsung, angeles, zeng, gloom,\n",
      "Nearest to running: rotherhithe, restoring, constitutionality, steppenwolf, holomorphic, colampadius, axels, footwear,\n",
      "Epoch 2/10 Iteration: 5100 Avg. Training loss: 4.5134 0.3774 sec/batch\n",
      "Epoch 2/10 Iteration: 5200 Avg. Training loss: 4.4780 0.3818 sec/batch\n",
      "Epoch 2/10 Iteration: 5300 Avg. Training loss: 4.4877 0.3616 sec/batch\n",
      "Epoch 2/10 Iteration: 5400 Avg. Training loss: 4.5284 0.3803 sec/batch\n",
      "Epoch 2/10 Iteration: 5500 Avg. Training loss: 4.4820 0.3635 sec/batch\n",
      "Epoch 2/10 Iteration: 5600 Avg. Training loss: 4.4650 0.3747 sec/batch\n",
      "Epoch 2/10 Iteration: 5700 Avg. Training loss: 4.4328 0.3666 sec/batch\n",
      "Epoch 2/10 Iteration: 5800 Avg. Training loss: 4.4034 0.3595 sec/batch\n",
      "Epoch 2/10 Iteration: 5900 Avg. Training loss: 4.4235 0.3685 sec/batch\n",
      "Epoch 2/10 Iteration: 6000 Avg. Training loss: 4.4084 0.4278 sec/batch\n",
      "Nearest to b: decorum, recipient, seven, hilaire, clarence, bra, tio, vertigo,\n",
      "Nearest to zero: rainfall, population, six, capita, average, woodland, annie, two,\n",
      "Nearest to with: rice, unfolded, polities, turnaround, inescapable, telescopic, spending, aiming,\n",
      "Nearest to when: signified, illustrations, resonated, antithetical, destry, jakarta, frye, sieges,\n",
      "Nearest to state: chola, fifteenth, pitting, najibullah, erode, lisbon, british, legislature,\n",
      "Nearest to often: webs, some, virtue, transmitting, weishaupt, transcended, modern, pesach,\n",
      "Nearest to other: cmd, hoosiers, taking, easier, accelerating, valence, expanse, deadlock,\n",
      "Nearest to only: gladiatorial, impression, alertness, pioneered, aeacus, outfielder, acquisition, penultimate,\n",
      "Nearest to mainly: gcd, priced, unseen, stifling, rainwater, gettier, adc, agnostic,\n",
      "Nearest to arts: wedgwood, grays, nbc, loot, mammal, mighty, seebeck, richmond,\n",
      "Nearest to additional: yields, causative, genetics, haven, omniscient, electrically, monrovia, mamayev,\n",
      "Nearest to hold: respectfully, distinguished, namesakes, antipodal, unlawful, muscles, imprinting, cos,\n",
      "Nearest to question: mani, nesbitt, subroutines, eukaryotic, idea, pritsak, feodor, repeal,\n",
      "Nearest to notes: fudge, haeckel, suppression, honest, uke, linguists, chanel, blues,\n",
      "Nearest to mathematics: algebraic, mane, create, samsung, zeng, onward, gloom, conceptualize,\n",
      "Nearest to running: rotherhithe, holomorphic, constitutionality, restoring, out, steppenwolf, biker, zariski,\n",
      "Epoch 2/10 Iteration: 6100 Avg. Training loss: 4.4339 0.4343 sec/batch\n",
      "Epoch 2/10 Iteration: 6200 Avg. Training loss: 4.3902 0.4019 sec/batch\n",
      "Epoch 2/10 Iteration: 6300 Avg. Training loss: 4.4265 0.3779 sec/batch\n",
      "Epoch 2/10 Iteration: 6400 Avg. Training loss: 4.4130 0.3627 sec/batch\n",
      "Epoch 2/10 Iteration: 6500 Avg. Training loss: 4.3870 0.3688 sec/batch\n",
      "Epoch 2/10 Iteration: 6600 Avg. Training loss: 4.4498 0.3811 sec/batch\n",
      "Epoch 2/10 Iteration: 6700 Avg. Training loss: 4.3937 0.3790 sec/batch\n",
      "Epoch 2/10 Iteration: 6800 Avg. Training loss: 4.3807 0.3757 sec/batch\n",
      "Epoch 2/10 Iteration: 6900 Avg. Training loss: 4.4004 0.3896 sec/batch\n",
      "Epoch 2/10 Iteration: 7000 Avg. Training loss: 4.3657 0.4016 sec/batch\n",
      "Nearest to b: recipient, seven, clarence, decorum, ne, d, hilaire, bra,\n",
      "Nearest to zero: six, rainfall, capita, two, eight, annie, population, three,\n",
      "Nearest to with: unfolded, turnaround, rice, polities, where, inescapable, spending, pipeline,\n",
      "Nearest to when: signified, destry, jakarta, everybody, antithetical, frye, fragment, subscriber,\n",
      "Nearest to state: chola, pitting, erode, fifteenth, legislature, najibullah, revoke, northerly,\n",
      "Nearest to often: webs, transcended, transmitting, modern, virtue, pesach, some, weishaupt,\n",
      "Nearest to other: taking, cmd, hoosiers, easier, betrayed, accelerating, homology, solvable,\n",
      "Nearest to only: gladiatorial, alertness, impression, pioneered, heritages, outfielder, aeacus, twelve,\n",
      "Nearest to mainly: gcd, rainwater, gettier, priced, stifling, agnostic, adc, rift,\n",
      "Nearest to arts: nbc, wedgwood, mighty, grays, richmond, loot, hopes, barker,\n",
      "Nearest to additional: yields, causative, electrically, genetics, bromide, occidental, haven, omniscient,\n",
      "Nearest to hold: respectfully, distinguished, antipodal, namesakes, unlawful, imprinting, cos, muscles,\n",
      "Nearest to question: mani, idea, nesbitt, eukaryotic, themselves, pritsak, subroutines, feodor,\n",
      "Nearest to notes: fudge, haeckel, honest, suppression, chanel, uke, blues, dactyls,\n",
      "Nearest to mathematics: algebraic, zeng, defining, mane, gloom, onward, justine, conceptualize,\n",
      "Nearest to running: out, biker, holomorphic, huey, restoring, colampadius, rotherhithe, constitutionality,\n",
      "Epoch 2/10 Iteration: 7100 Avg. Training loss: 4.4010 0.4049 sec/batch\n",
      "Epoch 2/10 Iteration: 7200 Avg. Training loss: 4.4120 0.3785 sec/batch\n",
      "Epoch 2/10 Iteration: 7300 Avg. Training loss: 4.3683 0.4004 sec/batch\n",
      "Epoch 2/10 Iteration: 7400 Avg. Training loss: 4.3305 0.3727 sec/batch\n",
      "Epoch 2/10 Iteration: 7500 Avg. Training loss: 4.3932 0.3559 sec/batch\n",
      "Epoch 2/10 Iteration: 7600 Avg. Training loss: 4.3935 0.3700 sec/batch\n",
      "Epoch 2/10 Iteration: 7700 Avg. Training loss: 4.3807 0.3635 sec/batch\n",
      "Epoch 2/10 Iteration: 7800 Avg. Training loss: 4.3769 0.3728 sec/batch\n",
      "Epoch 2/10 Iteration: 7900 Avg. Training loss: 4.3202 0.3494 sec/batch\n",
      "Epoch 2/10 Iteration: 8000 Avg. Training loss: 4.2826 0.3557 sec/batch\n",
      "Nearest to b: recipient, ne, hilaire, bra, o, d, vertigo, seven,\n",
      "Nearest to zero: six, capita, population, two, three, eight, expectancy, rainfall,\n",
      "Nearest to with: unfolded, inescapable, where, spending, rice, turnaround, polities, hamsters,\n",
      "Nearest to when: signified, destry, everybody, hortense, polka, frye, antithetical, fragment,\n",
      "Nearest to state: chola, legislature, erode, pitting, najibullah, revoke, fifteenth, lisbon,\n",
      "Nearest to often: webs, transmitting, transcended, virtue, modern, pesach, weishaupt, some,\n",
      "Nearest to other: cmd, taking, hoosiers, easier, betrayed, solvable, gholas, exceptionalism,\n",
      "Nearest to only: gladiatorial, alertness, outfielder, impression, heritages, durio, tonkin, pioneered,\n",
      "Nearest to mainly: gcd, rainwater, gettier, stifling, agnostic, rift, historians, priced,\n",
      "Nearest to arts: nbc, wedgwood, grays, loot, richmond, alibi, hopes, mighty,\n",
      "Nearest to additional: causative, haven, yields, occidental, bromide, excellency, omniscient, monrovia,\n",
      "Nearest to hold: respectfully, distinguished, antipodal, unlawful, jihad, namesakes, islamic, exist,\n",
      "Nearest to question: mani, idea, themselves, pritsak, eukaryotic, subroutines, nesbitt, atonement,\n",
      "Nearest to notes: fudge, haeckel, honest, chanel, suppression, blues, factorial, dactyls,\n",
      "Nearest to mathematics: algebraic, zeng, defining, diger, onward, gloom, justine, patricia,\n",
      "Nearest to running: holomorphic, ds, huey, biker, out, zariski, colampadius, axels,\n"
     ]
    },
    {
     "name": "stdout",
     "output_type": "stream",
     "text": [
      "Epoch 2/10 Iteration: 8100 Avg. Training loss: 4.3358 0.3585 sec/batch\n",
      "Epoch 2/10 Iteration: 8200 Avg. Training loss: 4.2852 0.3737 sec/batch\n",
      "Epoch 2/10 Iteration: 8300 Avg. Training loss: 4.3553 0.3788 sec/batch\n",
      "Epoch 2/10 Iteration: 8400 Avg. Training loss: 4.3783 0.4038 sec/batch\n",
      "Epoch 2/10 Iteration: 8500 Avg. Training loss: 4.3818 0.4094 sec/batch\n",
      "Epoch 2/10 Iteration: 8600 Avg. Training loss: 4.2891 0.3695 sec/batch\n",
      "Epoch 2/10 Iteration: 8700 Avg. Training loss: 4.2971 0.4215 sec/batch\n",
      "Epoch 2/10 Iteration: 8800 Avg. Training loss: 4.3054 0.4218 sec/batch\n",
      "Epoch 2/10 Iteration: 8900 Avg. Training loss: 4.2029 0.4083 sec/batch\n",
      "Epoch 2/10 Iteration: 9000 Avg. Training loss: 4.2674 0.3807 sec/batch\n",
      "Nearest to b: d, recipient, hilaire, seven, author, inventor, geneticist, ne,\n",
      "Nearest to zero: six, two, three, eight, population, capita, seven, expectancy,\n",
      "Nearest to with: spending, where, rice, polities, turnaround, unfolded, inescapable, orchestrating,\n",
      "Nearest to when: signified, destry, polka, hortense, everybody, submissions, haden, oxfam,\n",
      "Nearest to state: legislature, chola, erode, revoke, pitting, najibullah, lisbon, fifteenth,\n",
      "Nearest to often: webs, transcended, transmitting, modern, virtue, pesach, weishaupt, kon,\n",
      "Nearest to other: cmd, taking, hoosiers, toklas, phenomenally, accelerating, easier, solvable,\n",
      "Nearest to only: gladiatorial, outfielder, alertness, impression, durio, pioneered, heritages, tonkin,\n",
      "Nearest to mainly: rainwater, gcd, stifling, gettier, agnostic, adc, wallowing, rift,\n",
      "Nearest to arts: wedgwood, alibi, cheetah, nbc, krause, mighty, fretted, grays,\n",
      "Nearest to additional: causative, haven, occidental, excellency, monrovia, omniscient, mamayev, sayce,\n",
      "Nearest to hold: respectfully, distinguished, unlawful, antipodal, namesakes, jihad, marathon, subfamily,\n",
      "Nearest to question: idea, mani, themselves, subroutines, eukaryotic, pritsak, nesbitt, baldness,\n",
      "Nearest to notes: fudge, haeckel, chanel, honest, blues, transposition, suppression, dactyls,\n",
      "Nearest to mathematics: algebraic, zeng, diger, defining, patricia, theorems, gloom, onward,\n",
      "Nearest to running: ds, huey, holomorphic, biker, operating, zariski, colampadius, configure,\n",
      "Epoch 2/10 Iteration: 9100 Avg. Training loss: 4.3031 0.4211 sec/batch\n",
      "Epoch 2/10 Iteration: 9200 Avg. Training loss: 4.2901 0.4359 sec/batch\n",
      "Epoch 3/10 Iteration: 9300 Avg. Training loss: 4.3297 0.1949 sec/batch\n",
      "Epoch 3/10 Iteration: 9400 Avg. Training loss: 4.2293 0.4058 sec/batch\n",
      "Epoch 3/10 Iteration: 9500 Avg. Training loss: 4.2116 0.3750 sec/batch\n",
      "Epoch 3/10 Iteration: 9600 Avg. Training loss: 4.2112 0.3488 sec/batch\n",
      "Epoch 3/10 Iteration: 9700 Avg. Training loss: 4.1699 0.3704 sec/batch\n",
      "Epoch 3/10 Iteration: 9800 Avg. Training loss: 4.1784 0.3683 sec/batch\n",
      "Epoch 3/10 Iteration: 9900 Avg. Training loss: 4.1989 0.3889 sec/batch\n",
      "Epoch 3/10 Iteration: 10000 Avg. Training loss: 4.1723 0.3672 sec/batch\n",
      "Nearest to b: recipient, d, hilaire, author, ne, inventor, geneticist, seven,\n",
      "Nearest to zero: two, six, three, population, eight, average, expectancy, seven,\n",
      "Nearest to with: spending, orchestrating, pipeline, motorcyclist, where, inescapable, unfolded, ready,\n",
      "Nearest to when: signified, destry, oxfam, polka, everybody, hortense, frye, before,\n",
      "Nearest to state: legislature, chola, erode, najibullah, revoke, lisbon, pitting, euboea,\n",
      "Nearest to often: webs, transmitting, transcended, pesach, virtue, modern, kon, incremented,\n",
      "Nearest to other: cmd, hoosiers, taking, toklas, exceptionalism, phenomenally, gholas, axons,\n",
      "Nearest to only: gladiatorial, outfielder, alertness, heritages, durio, impression, pioneered, bossuet,\n",
      "Nearest to mainly: gcd, rainwater, wallowing, gettier, stifling, annually, adc, agnostic,\n",
      "Nearest to arts: wedgwood, grays, cheetah, alibi, mighty, sciences, soaps, krause,\n",
      "Nearest to additional: causative, haven, occidental, excellency, electrically, sayce, bromide, mamayev,\n",
      "Nearest to hold: respectfully, distinguished, unlawful, antipodal, namesakes, jihad, palestinians, subfamily,\n",
      "Nearest to question: mani, idea, themselves, pritsak, eukaryotic, subroutines, nesbitt, repeal,\n",
      "Nearest to notes: haeckel, fudge, chanel, blues, dactyls, suppression, transposition, factorial,\n",
      "Nearest to mathematics: algebraic, zeng, diger, patricia, defining, geometry, theorems, pam,\n",
      "Nearest to running: huey, ds, built, holomorphic, operating, sanitization, biker, zariski,\n",
      "Epoch 3/10 Iteration: 10100 Avg. Training loss: 4.2302 0.4143 sec/batch\n",
      "Epoch 3/10 Iteration: 10200 Avg. Training loss: 4.2062 0.3702 sec/batch\n",
      "Epoch 3/10 Iteration: 10300 Avg. Training loss: 4.2154 0.3700 sec/batch\n",
      "Epoch 3/10 Iteration: 10400 Avg. Training loss: 4.1083 0.3688 sec/batch\n",
      "Epoch 3/10 Iteration: 10500 Avg. Training loss: 4.1367 0.3807 sec/batch\n",
      "Epoch 3/10 Iteration: 10600 Avg. Training loss: 4.1320 0.3897 sec/batch\n",
      "Epoch 3/10 Iteration: 10700 Avg. Training loss: 4.1264 0.3718 sec/batch\n",
      "Epoch 3/10 Iteration: 10800 Avg. Training loss: 4.1691 0.4622 sec/batch\n",
      "Epoch 3/10 Iteration: 10900 Avg. Training loss: 4.1786 0.4298 sec/batch\n",
      "Epoch 3/10 Iteration: 11000 Avg. Training loss: 4.1433 0.3539 sec/batch\n",
      "Nearest to b: hilaire, bra, euler, recipient, infty, leq, distributivity, d,\n",
      "Nearest to zero: two, six, three, population, eight, seven, four, average,\n",
      "Nearest to with: where, inescapable, turnaround, orchestrating, ready, pipeline, counterexample, hamsters,\n",
      "Nearest to when: before, destry, everybody, signified, oxfam, requested, taland, fragment,\n",
      "Nearest to state: legislature, erode, chola, revoke, najibullah, euboea, pitting, lisbon,\n",
      "Nearest to often: webs, transmitting, pesach, modern, incremented, some, transcended, grassland,\n",
      "Nearest to other: cmd, hoosiers, taking, exceptionalism, gholas, phenomenally, toklas, solvable,\n",
      "Nearest to only: gladiatorial, outfielder, alertness, heritages, durio, bossuet, impression, note,\n",
      "Nearest to mainly: rainwater, gcd, wallowing, gettier, adc, annually, agnostic, stifling,\n",
      "Nearest to arts: wedgwood, sciences, grays, lewin, cheetah, barker, alibi, soaps,\n",
      "Nearest to additional: causative, haven, sayce, excellency, occidental, electrically, bromide, automaton,\n",
      "Nearest to hold: respectfully, distinguished, antipodal, unlawful, namesakes, subfamily, marathon, seaworthy,\n",
      "Nearest to question: subroutines, mani, themselves, idea, eukaryotic, pritsak, baldness, atonement,\n",
      "Nearest to notes: haeckel, fudge, chanel, blues, dactyls, transposition, factorial, linguists,\n",
      "Nearest to mathematics: algebraic, zeng, diger, patricia, geometry, theorems, defining, onward,\n",
      "Nearest to running: ds, huey, gear, out, configure, holomorphic, zariski, biker,\n",
      "Epoch 3/10 Iteration: 11100 Avg. Training loss: 4.1385 0.3600 sec/batch\n",
      "Epoch 3/10 Iteration: 11200 Avg. Training loss: 4.2035 0.3467 sec/batch\n",
      "Epoch 3/10 Iteration: 11300 Avg. Training loss: 4.1637 0.4161 sec/batch\n",
      "Epoch 3/10 Iteration: 11400 Avg. Training loss: 4.1458 0.4546 sec/batch\n",
      "Epoch 3/10 Iteration: 11500 Avg. Training loss: 4.1524 0.4613 sec/batch\n",
      "Epoch 3/10 Iteration: 11600 Avg. Training loss: 4.1631 0.4449 sec/batch\n",
      "Epoch 3/10 Iteration: 11700 Avg. Training loss: 4.2017 0.4351 sec/batch\n",
      "Epoch 3/10 Iteration: 11800 Avg. Training loss: 4.1244 0.4432 sec/batch\n",
      "Epoch 3/10 Iteration: 11900 Avg. Training loss: 4.1304 0.4405 sec/batch\n",
      "Epoch 3/10 Iteration: 12000 Avg. Training loss: 4.1467 0.4400 sec/batch\n",
      "Nearest to b: hilaire, bra, d, recipient, euler, hendrik, infty, ne,\n",
      "Nearest to zero: six, two, three, eight, population, four, seven, expectancy,\n",
      "Nearest to with: where, orchestrating, inescapable, turnaround, spending, motorcyclist, anachronism, unfolded,\n",
      "Nearest to when: signified, everybody, destry, before, polka, indivisible, hortense, requested,\n",
      "Nearest to state: legislature, erode, chola, najibullah, revoke, pitting, fatah, euboea,\n",
      "Nearest to often: webs, transmitting, modern, pesach, communicated, transcended, virtue, weishaupt,\n",
      "Nearest to other: cmd, taking, hoosiers, saharan, gholas, spurred, expanse, easier,\n",
      "Nearest to only: gladiatorial, outfielder, heritages, alertness, note, durio, abelian, impression,\n",
      "Nearest to mainly: rainwater, wallowing, gettier, annually, gcd, gujarati, dish, agnostic,\n",
      "Nearest to arts: wedgwood, sciences, grays, lewin, krause, graduate, soaps, barker,\n",
      "Nearest to additional: haven, causative, electrically, bromide, occidental, excellency, sayce, automaton,\n",
      "Nearest to hold: respectfully, distinguished, antipodal, namesakes, marathon, unlawful, omni, seaworthy,\n",
      "Nearest to question: mani, subroutines, themselves, pritsak, eukaryotic, baldness, deny, president,\n",
      "Nearest to notes: fudge, haeckel, chanel, blues, dactyls, transposition, honest, factorial,\n",
      "Nearest to mathematics: algebraic, zeng, diger, patricia, geometry, defining, onward, theorems,\n",
      "Nearest to running: ds, huey, biker, zariski, holomorphic, redistributing, configure, sanitization,\n"
     ]
    },
    {
     "name": "stdout",
     "output_type": "stream",
     "text": [
      "Epoch 3/10 Iteration: 12100 Avg. Training loss: 4.1643 0.4519 sec/batch\n",
      "Epoch 3/10 Iteration: 12200 Avg. Training loss: 4.1599 0.4435 sec/batch\n",
      "Epoch 3/10 Iteration: 12300 Avg. Training loss: 4.1380 0.4223 sec/batch\n",
      "Epoch 3/10 Iteration: 12400 Avg. Training loss: 4.1501 0.3571 sec/batch\n",
      "Epoch 3/10 Iteration: 12500 Avg. Training loss: 4.1189 0.3498 sec/batch\n",
      "Epoch 3/10 Iteration: 12600 Avg. Training loss: 4.0813 0.3980 sec/batch\n",
      "Epoch 3/10 Iteration: 12700 Avg. Training loss: 4.1285 0.3834 sec/batch\n",
      "Epoch 3/10 Iteration: 12800 Avg. Training loss: 4.1311 0.3790 sec/batch\n",
      "Epoch 3/10 Iteration: 12900 Avg. Training loss: 4.1757 0.3956 sec/batch\n",
      "Epoch 3/10 Iteration: 13000 Avg. Training loss: 4.1995 0.4058 sec/batch\n",
      "Nearest to b: d, hilaire, author, recipient, hendrik, geneticist, british, ne,\n",
      "Nearest to zero: two, six, three, eight, four, five, seven, expectancy,\n",
      "Nearest to with: where, gign, meps, authorizes, orchestrating, anachronism, turnaround, motorcyclist,\n",
      "Nearest to when: destry, hortense, before, requested, everybody, hrer, polka, signified,\n",
      "Nearest to state: legislature, erode, revoke, chola, najibullah, fatah, bribes, enact,\n",
      "Nearest to often: webs, communicated, transmitting, modern, transcended, pesach, incremented, virtue,\n",
      "Nearest to other: cmd, gai, saharan, hoosiers, gholas, taking, toklas, exceptionalism,\n",
      "Nearest to only: gladiatorial, outfielder, durio, heritages, alertness, georgy, bossuet, abelian,\n",
      "Nearest to mainly: wallowing, gujarati, dish, rainwater, annually, agnostic, gettier, bechtel,\n",
      "Nearest to arts: wedgwood, sciences, grays, lewin, soaps, cheetah, richmond, krause,\n",
      "Nearest to additional: haven, causative, occidental, monrovia, excellency, sayce, vega, mamayev,\n",
      "Nearest to hold: respectfully, jihad, distinguished, unlawful, antipodal, namesakes, marathon, seaworthy,\n",
      "Nearest to question: mani, subroutines, pritsak, president, nesbitt, themselves, repeal, baldness,\n",
      "Nearest to notes: fudge, haeckel, chanel, blues, transposition, dactyls, factorial, excision,\n",
      "Nearest to mathematics: algebraic, diger, zeng, onward, patricia, frege, pam, geometry,\n",
      "Nearest to running: ds, huey, authorization, operating, cosby, sanitization, holomorphic, colampadius,\n",
      "Epoch 3/10 Iteration: 13100 Avg. Training loss: 4.1968 0.4442 sec/batch\n",
      "Epoch 3/10 Iteration: 13200 Avg. Training loss: 4.1081 0.4059 sec/batch\n",
      "Epoch 3/10 Iteration: 13300 Avg. Training loss: 4.0960 0.3622 sec/batch\n",
      "Epoch 3/10 Iteration: 13400 Avg. Training loss: 4.1145 0.3814 sec/batch\n",
      "Epoch 3/10 Iteration: 13500 Avg. Training loss: 3.9970 0.3689 sec/batch\n",
      "Epoch 3/10 Iteration: 13600 Avg. Training loss: 4.1299 0.3780 sec/batch\n",
      "Epoch 3/10 Iteration: 13700 Avg. Training loss: 4.0993 0.4083 sec/batch\n",
      "Epoch 3/10 Iteration: 13800 Avg. Training loss: 4.0887 0.4604 sec/batch\n",
      "Epoch 4/10 Iteration: 13900 Avg. Training loss: 4.1543 0.0735 sec/batch\n",
      "Epoch 4/10 Iteration: 14000 Avg. Training loss: 4.1055 0.3708 sec/batch\n",
      "Nearest to b: d, hilaire, hendrik, author, bra, recipient, bendix, british,\n",
      "Nearest to zero: two, six, three, eight, four, five, seven, nine,\n",
      "Nearest to with: where, harp, turnaround, orchestrating, motorcyclist, meps, ready, spending,\n",
      "Nearest to when: destry, requested, before, everybody, signified, hortense, oxfam, jakarta,\n",
      "Nearest to state: legislature, erode, revoke, najibullah, fatah, north, chola, hangzhou,\n",
      "Nearest to often: webs, transmitting, communicated, modern, incremented, underlying, pesach, transcended,\n",
      "Nearest to other: cmd, are, saharan, gai, axons, spurred, gholas, taking,\n",
      "Nearest to only: gladiatorial, outfielder, alertness, durio, abelian, heritages, note, tonkin,\n",
      "Nearest to mainly: gujarati, wallowing, dish, agnostic, annually, rainwater, gettier, historians,\n",
      "Nearest to arts: sciences, wedgwood, lewin, soaps, cheetah, grays, colleges, fretted,\n",
      "Nearest to additional: haven, occidental, causative, excellency, vega, electrically, mamayev, automaton,\n",
      "Nearest to hold: respectfully, distinguished, unlawful, jihad, marathon, antipodal, namesakes, seward,\n",
      "Nearest to question: subroutines, mani, pritsak, nesbitt, baldness, themselves, president, ok,\n",
      "Nearest to notes: transposition, fudge, haeckel, chanel, blues, dactyls, factorial, excision,\n",
      "Nearest to mathematics: diger, onward, zeng, algebraic, patricia, frege, pam, prioritization,\n",
      "Nearest to running: ds, huey, operating, camino, holomorphic, sanitization, zariski, configure,\n",
      "Epoch 4/10 Iteration: 14100 Avg. Training loss: 4.0987 0.3571 sec/batch\n",
      "Epoch 4/10 Iteration: 14200 Avg. Training loss: 4.0905 0.3637 sec/batch\n",
      "Epoch 4/10 Iteration: 14300 Avg. Training loss: 4.0568 0.3937 sec/batch\n",
      "Epoch 4/10 Iteration: 14400 Avg. Training loss: 4.0389 0.4259 sec/batch\n",
      "Epoch 4/10 Iteration: 14500 Avg. Training loss: 4.0504 0.3843 sec/batch\n",
      "Epoch 4/10 Iteration: 14600 Avg. Training loss: 4.0050 0.3800 sec/batch\n",
      "Epoch 4/10 Iteration: 14700 Avg. Training loss: 4.0793 0.3846 sec/batch\n",
      "Epoch 4/10 Iteration: 14800 Avg. Training loss: 4.0499 0.3661 sec/batch\n",
      "Epoch 4/10 Iteration: 14900 Avg. Training loss: 4.1053 0.3681 sec/batch\n",
      "Epoch 4/10 Iteration: 15000 Avg. Training loss: 3.9805 0.3678 sec/batch\n",
      "Nearest to b: bra, hilaire, hendrik, infty, leq, distributivity, bendix, euler,\n",
      "Nearest to zero: two, six, three, eight, four, five, average, seven,\n",
      "Nearest to with: where, ready, motorcyclist, and, turnaround, harp, rice, meps,\n",
      "Nearest to when: destry, before, requested, signified, everybody, jakarta, oxfam, sons,\n",
      "Nearest to state: legislature, erode, najibullah, revoke, fatah, chola, hangzhou, north,\n",
      "Nearest to often: webs, transmitting, modern, incremented, communicated, some, underlying, transcended,\n",
      "Nearest to other: cmd, are, axons, deadlock, spurred, gai, saharan, gholas,\n",
      "Nearest to only: gladiatorial, outfielder, durio, heritages, alertness, followed, bossuet, abelian,\n",
      "Nearest to mainly: wallowing, dish, annually, gujarati, gettier, agnostic, bechtel, priced,\n",
      "Nearest to arts: sciences, wedgwood, grays, reflecting, lewin, museum, alibi, cheetah,\n",
      "Nearest to additional: occidental, haven, causative, vega, electrically, excellency, mamayev, understudy,\n",
      "Nearest to hold: distinguished, respectfully, marathon, unlawful, antipodal, palestinians, namesakes, seward,\n",
      "Nearest to question: mani, subroutines, pritsak, themselves, nesbitt, repeal, president, baldness,\n",
      "Nearest to notes: haeckel, chanel, transposition, fudge, blues, dactyls, factorial, intonation,\n",
      "Nearest to mathematics: diger, algebraic, zeng, onward, patricia, frege, pam, wallis,\n",
      "Nearest to running: ds, huey, operating, holomorphic, out, colampadius, zariski, camino,\n",
      "Epoch 4/10 Iteration: 15100 Avg. Training loss: 3.9950 0.3722 sec/batch\n",
      "Epoch 4/10 Iteration: 15200 Avg. Training loss: 4.0102 0.3935 sec/batch\n",
      "Epoch 4/10 Iteration: 15300 Avg. Training loss: 3.9586 0.3546 sec/batch\n",
      "Epoch 4/10 Iteration: 15400 Avg. Training loss: 4.0421 0.3635 sec/batch\n",
      "Epoch 4/10 Iteration: 15500 Avg. Training loss: 4.0348 0.3530 sec/batch\n",
      "Epoch 4/10 Iteration: 15600 Avg. Training loss: 4.0295 0.3457 sec/batch\n",
      "Epoch 4/10 Iteration: 15700 Avg. Training loss: 4.0115 0.3562 sec/batch\n",
      "Epoch 4/10 Iteration: 15800 Avg. Training loss: 4.0997 0.4635 sec/batch\n",
      "Epoch 4/10 Iteration: 15900 Avg. Training loss: 4.0477 0.4425 sec/batch\n",
      "Epoch 4/10 Iteration: 16000 Avg. Training loss: 3.9995 0.3891 sec/batch\n",
      "Nearest to b: bra, hilaire, hendrik, infty, leq, bendix, euler, geq,\n",
      "Nearest to zero: two, six, three, four, eight, five, expectancy, seven,\n",
      "Nearest to with: where, turnaround, and, harp, meps, motorcyclist, ready, orchestrating,\n",
      "Nearest to when: before, signified, jakarta, everybody, destry, requested, indivisible, sons,\n",
      "Nearest to state: legislature, erode, revoke, najibullah, hangzhou, spectroscopy, fatah, chola,\n",
      "Nearest to often: webs, modern, transmitting, transcended, incremented, underlying, communicated, some,\n",
      "Nearest to other: cmd, are, gai, ddr, axons, spurred, deadlock, saharan,\n",
      "Nearest to only: gladiatorial, abelian, outfielder, note, heritages, followed, durio, alertness,\n",
      "Nearest to mainly: gujarati, wallowing, annually, dish, agnostic, bechtel, mindelo, priced,\n",
      "Nearest to arts: sciences, wedgwood, museum, colleges, coll, specialises, grays, cheetah,\n",
      "Nearest to additional: occidental, causative, electrically, haven, vega, excellency, understudy, mamayev,\n",
      "Nearest to hold: distinguished, marathon, respectfully, antipodal, omni, unlawful, cos, namesakes,\n",
      "Nearest to question: subroutines, pritsak, mani, baldness, xing, themselves, president, ok,\n",
      "Nearest to notes: transposition, chanel, haeckel, intonation, blues, fudge, octaves, dactyls,\n",
      "Nearest to mathematics: diger, algebraic, onward, zeng, patricia, pam, prioritization, frege,\n",
      "Nearest to running: huey, ds, operating, camino, trax, colampadius, elongate, shelved,\n"
     ]
    },
    {
     "name": "stdout",
     "output_type": "stream",
     "text": [
      "Epoch 4/10 Iteration: 16100 Avg. Training loss: 4.0028 0.3552 sec/batch\n",
      "Epoch 4/10 Iteration: 16200 Avg. Training loss: 4.0619 0.3483 sec/batch\n",
      "Epoch 4/10 Iteration: 16300 Avg. Training loss: 4.0531 0.3497 sec/batch\n",
      "Epoch 4/10 Iteration: 16400 Avg. Training loss: 4.0178 0.3475 sec/batch\n",
      "Epoch 4/10 Iteration: 16500 Avg. Training loss: 4.0157 0.3513 sec/batch\n",
      "Epoch 4/10 Iteration: 16600 Avg. Training loss: 4.0335 0.3616 sec/batch\n",
      "Epoch 4/10 Iteration: 16700 Avg. Training loss: 4.0432 0.3765 sec/batch\n",
      "Epoch 4/10 Iteration: 16800 Avg. Training loss: 4.0381 0.4157 sec/batch\n",
      "Epoch 4/10 Iteration: 16900 Avg. Training loss: 4.0616 0.3873 sec/batch\n",
      "Epoch 4/10 Iteration: 17000 Avg. Training loss: 4.0534 0.4375 sec/batch\n",
      "Nearest to b: bra, hilaire, hendrik, leq, infty, euler, legendre, bendix,\n",
      "Nearest to zero: two, six, three, eight, four, five, expectancy, seven,\n",
      "Nearest to with: where, and, harp, meps, turnaround, inescapable, spending, anachronism,\n",
      "Nearest to when: signified, before, indivisible, jakarta, requested, destry, sons, everybody,\n",
      "Nearest to state: legislature, revoke, erode, najibullah, fatah, bribes, chola, hangzhou,\n",
      "Nearest to often: webs, communicated, modern, transcended, some, underlying, transmitting, incremented,\n",
      "Nearest to other: cmd, are, gai, spurred, deadlock, ddr, speaking, linguistically,\n",
      "Nearest to only: gladiatorial, durio, abelian, outfielder, georgy, heritages, note, alertness,\n",
      "Nearest to mainly: gujarati, wallowing, agnostic, annually, dish, gettier, mindelo, stifling,\n",
      "Nearest to arts: sciences, wedgwood, colleges, coll, museum, grays, specialises, graduate,\n",
      "Nearest to additional: causative, occidental, excellency, vega, haven, understudy, mamayev, electrically,\n",
      "Nearest to hold: marathon, distinguished, respectfully, jihad, antipodal, omni, palestinians, muluzi,\n",
      "Nearest to question: mani, subroutines, pritsak, themselves, president, xing, ok, nesbitt,\n",
      "Nearest to notes: transposition, haeckel, intonation, fudge, blues, chanel, octaves, dactyls,\n",
      "Nearest to mathematics: diger, onward, algebraic, zeng, patricia, frege, prioritization, pam,\n",
      "Nearest to running: operating, ds, huey, camino, trax, whoever, holomorphic, cots,\n",
      "Epoch 4/10 Iteration: 17100 Avg. Training loss: 4.0171 0.4230 sec/batch\n",
      "Epoch 4/10 Iteration: 17200 Avg. Training loss: 3.9690 0.4152 sec/batch\n"
     ]
    },
    {
     "ename": "KeyboardInterrupt",
     "evalue": "",
     "output_type": "error",
     "traceback": [
      "\u001b[0;31m---------------------------------------------------------------------------\u001b[0m",
      "\u001b[0;31mKeyboardInterrupt\u001b[0m                         Traceback (most recent call last)",
      "\u001b[0;32m<ipython-input-24-6d252857543a>\u001b[0m in \u001b[0;36m<module>\u001b[0;34m()\u001b[0m\n\u001b[1;32m     18\u001b[0m             feed = {inputs: x,\n\u001b[1;32m     19\u001b[0m                     labels: np.array(y)[:, None]}\n\u001b[0;32m---> 20\u001b[0;31m             \u001b[0mtrain_loss\u001b[0m\u001b[0;34m,\u001b[0m \u001b[0m_\u001b[0m \u001b[0;34m=\u001b[0m \u001b[0msess\u001b[0m\u001b[0;34m.\u001b[0m\u001b[0mrun\u001b[0m\u001b[0;34m(\u001b[0m\u001b[0;34m[\u001b[0m\u001b[0mcost\u001b[0m\u001b[0;34m,\u001b[0m \u001b[0moptimizer\u001b[0m\u001b[0;34m]\u001b[0m\u001b[0;34m,\u001b[0m \u001b[0mfeed_dict\u001b[0m\u001b[0;34m=\u001b[0m\u001b[0mfeed\u001b[0m\u001b[0;34m)\u001b[0m\u001b[0;34m\u001b[0m\u001b[0m\n\u001b[0m\u001b[1;32m     21\u001b[0m \u001b[0;34m\u001b[0m\u001b[0m\n\u001b[1;32m     22\u001b[0m             \u001b[0mloss\u001b[0m \u001b[0;34m+=\u001b[0m \u001b[0mtrain_loss\u001b[0m\u001b[0;34m\u001b[0m\u001b[0m\n",
      "\u001b[0;32m~/Developer/DeepLearning/udacity/venv/lib/python3.6/site-packages/tensorflow/python/client/session.py\u001b[0m in \u001b[0;36mrun\u001b[0;34m(self, fetches, feed_dict, options, run_metadata)\u001b[0m\n\u001b[1;32m    893\u001b[0m     \u001b[0;32mtry\u001b[0m\u001b[0;34m:\u001b[0m\u001b[0;34m\u001b[0m\u001b[0m\n\u001b[1;32m    894\u001b[0m       result = self._run(None, fetches, feed_dict, options_ptr,\n\u001b[0;32m--> 895\u001b[0;31m                          run_metadata_ptr)\n\u001b[0m\u001b[1;32m    896\u001b[0m       \u001b[0;32mif\u001b[0m \u001b[0mrun_metadata\u001b[0m\u001b[0;34m:\u001b[0m\u001b[0;34m\u001b[0m\u001b[0m\n\u001b[1;32m    897\u001b[0m         \u001b[0mproto_data\u001b[0m \u001b[0;34m=\u001b[0m \u001b[0mtf_session\u001b[0m\u001b[0;34m.\u001b[0m\u001b[0mTF_GetBuffer\u001b[0m\u001b[0;34m(\u001b[0m\u001b[0mrun_metadata_ptr\u001b[0m\u001b[0;34m)\u001b[0m\u001b[0;34m\u001b[0m\u001b[0m\n",
      "\u001b[0;32m~/Developer/DeepLearning/udacity/venv/lib/python3.6/site-packages/tensorflow/python/client/session.py\u001b[0m in \u001b[0;36m_run\u001b[0;34m(self, handle, fetches, feed_dict, options, run_metadata)\u001b[0m\n\u001b[1;32m   1126\u001b[0m     \u001b[0;32mif\u001b[0m \u001b[0mfinal_fetches\u001b[0m \u001b[0;32mor\u001b[0m \u001b[0mfinal_targets\u001b[0m \u001b[0;32mor\u001b[0m \u001b[0;34m(\u001b[0m\u001b[0mhandle\u001b[0m \u001b[0;32mand\u001b[0m \u001b[0mfeed_dict_tensor\u001b[0m\u001b[0;34m)\u001b[0m\u001b[0;34m:\u001b[0m\u001b[0;34m\u001b[0m\u001b[0m\n\u001b[1;32m   1127\u001b[0m       results = self._do_run(handle, final_targets, final_fetches,\n\u001b[0;32m-> 1128\u001b[0;31m                              feed_dict_tensor, options, run_metadata)\n\u001b[0m\u001b[1;32m   1129\u001b[0m     \u001b[0;32melse\u001b[0m\u001b[0;34m:\u001b[0m\u001b[0;34m\u001b[0m\u001b[0m\n\u001b[1;32m   1130\u001b[0m       \u001b[0mresults\u001b[0m \u001b[0;34m=\u001b[0m \u001b[0;34m[\u001b[0m\u001b[0;34m]\u001b[0m\u001b[0;34m\u001b[0m\u001b[0m\n",
      "\u001b[0;32m~/Developer/DeepLearning/udacity/venv/lib/python3.6/site-packages/tensorflow/python/client/session.py\u001b[0m in \u001b[0;36m_do_run\u001b[0;34m(self, handle, target_list, fetch_list, feed_dict, options, run_metadata)\u001b[0m\n\u001b[1;32m   1342\u001b[0m     \u001b[0;32mif\u001b[0m \u001b[0mhandle\u001b[0m \u001b[0;32mis\u001b[0m \u001b[0;32mNone\u001b[0m\u001b[0;34m:\u001b[0m\u001b[0;34m\u001b[0m\u001b[0m\n\u001b[1;32m   1343\u001b[0m       return self._do_call(_run_fn, self._session, feeds, fetches, targets,\n\u001b[0;32m-> 1344\u001b[0;31m                            options, run_metadata)\n\u001b[0m\u001b[1;32m   1345\u001b[0m     \u001b[0;32melse\u001b[0m\u001b[0;34m:\u001b[0m\u001b[0;34m\u001b[0m\u001b[0m\n\u001b[1;32m   1346\u001b[0m       \u001b[0;32mreturn\u001b[0m \u001b[0mself\u001b[0m\u001b[0;34m.\u001b[0m\u001b[0m_do_call\u001b[0m\u001b[0;34m(\u001b[0m\u001b[0m_prun_fn\u001b[0m\u001b[0;34m,\u001b[0m \u001b[0mself\u001b[0m\u001b[0;34m.\u001b[0m\u001b[0m_session\u001b[0m\u001b[0;34m,\u001b[0m \u001b[0mhandle\u001b[0m\u001b[0;34m,\u001b[0m \u001b[0mfeeds\u001b[0m\u001b[0;34m,\u001b[0m \u001b[0mfetches\u001b[0m\u001b[0;34m)\u001b[0m\u001b[0;34m\u001b[0m\u001b[0m\n",
      "\u001b[0;32m~/Developer/DeepLearning/udacity/venv/lib/python3.6/site-packages/tensorflow/python/client/session.py\u001b[0m in \u001b[0;36m_do_call\u001b[0;34m(self, fn, *args)\u001b[0m\n\u001b[1;32m   1348\u001b[0m   \u001b[0;32mdef\u001b[0m \u001b[0m_do_call\u001b[0m\u001b[0;34m(\u001b[0m\u001b[0mself\u001b[0m\u001b[0;34m,\u001b[0m \u001b[0mfn\u001b[0m\u001b[0;34m,\u001b[0m \u001b[0;34m*\u001b[0m\u001b[0margs\u001b[0m\u001b[0;34m)\u001b[0m\u001b[0;34m:\u001b[0m\u001b[0;34m\u001b[0m\u001b[0m\n\u001b[1;32m   1349\u001b[0m     \u001b[0;32mtry\u001b[0m\u001b[0;34m:\u001b[0m\u001b[0;34m\u001b[0m\u001b[0m\n\u001b[0;32m-> 1350\u001b[0;31m       \u001b[0;32mreturn\u001b[0m \u001b[0mfn\u001b[0m\u001b[0;34m(\u001b[0m\u001b[0;34m*\u001b[0m\u001b[0margs\u001b[0m\u001b[0;34m)\u001b[0m\u001b[0;34m\u001b[0m\u001b[0m\n\u001b[0m\u001b[1;32m   1351\u001b[0m     \u001b[0;32mexcept\u001b[0m \u001b[0merrors\u001b[0m\u001b[0;34m.\u001b[0m\u001b[0mOpError\u001b[0m \u001b[0;32mas\u001b[0m \u001b[0me\u001b[0m\u001b[0;34m:\u001b[0m\u001b[0;34m\u001b[0m\u001b[0m\n\u001b[1;32m   1352\u001b[0m       \u001b[0mmessage\u001b[0m \u001b[0;34m=\u001b[0m \u001b[0mcompat\u001b[0m\u001b[0;34m.\u001b[0m\u001b[0mas_text\u001b[0m\u001b[0;34m(\u001b[0m\u001b[0me\u001b[0m\u001b[0;34m.\u001b[0m\u001b[0mmessage\u001b[0m\u001b[0;34m)\u001b[0m\u001b[0;34m\u001b[0m\u001b[0m\n",
      "\u001b[0;32m~/Developer/DeepLearning/udacity/venv/lib/python3.6/site-packages/tensorflow/python/client/session.py\u001b[0m in \u001b[0;36m_run_fn\u001b[0;34m(session, feed_dict, fetch_list, target_list, options, run_metadata)\u001b[0m\n\u001b[1;32m   1327\u001b[0m           return tf_session.TF_Run(session, options,\n\u001b[1;32m   1328\u001b[0m                                    \u001b[0mfeed_dict\u001b[0m\u001b[0;34m,\u001b[0m \u001b[0mfetch_list\u001b[0m\u001b[0;34m,\u001b[0m \u001b[0mtarget_list\u001b[0m\u001b[0;34m,\u001b[0m\u001b[0;34m\u001b[0m\u001b[0m\n\u001b[0;32m-> 1329\u001b[0;31m                                    status, run_metadata)\n\u001b[0m\u001b[1;32m   1330\u001b[0m \u001b[0;34m\u001b[0m\u001b[0m\n\u001b[1;32m   1331\u001b[0m     \u001b[0;32mdef\u001b[0m \u001b[0m_prun_fn\u001b[0m\u001b[0;34m(\u001b[0m\u001b[0msession\u001b[0m\u001b[0;34m,\u001b[0m \u001b[0mhandle\u001b[0m\u001b[0;34m,\u001b[0m \u001b[0mfeed_dict\u001b[0m\u001b[0;34m,\u001b[0m \u001b[0mfetch_list\u001b[0m\u001b[0;34m)\u001b[0m\u001b[0;34m:\u001b[0m\u001b[0;34m\u001b[0m\u001b[0m\n",
      "\u001b[0;31mKeyboardInterrupt\u001b[0m: "
     ]
    }
   ],
   "source": [
    "epochs = 10\n",
    "batch_size = 1000\n",
    "window_size = 10\n",
    "\n",
    "with train_graph.as_default():\n",
    "    saver = tf.train.Saver()\n",
    "\n",
    "with tf.Session(graph=train_graph) as sess:\n",
    "    iteration = 1\n",
    "    loss = 0\n",
    "    sess.run(tf.global_variables_initializer())\n",
    "\n",
    "    for e in range(1, epochs+1):\n",
    "        batches = get_batches(train_words, batch_size, window_size)\n",
    "        start = time.time()\n",
    "        for x, y in batches:\n",
    "            \n",
    "            feed = {inputs: x,\n",
    "                    labels: np.array(y)[:, None]}\n",
    "            train_loss, _ = sess.run([cost, optimizer], feed_dict=feed)\n",
    "            \n",
    "            loss += train_loss\n",
    "            \n",
    "            if iteration % 100 == 0: \n",
    "                end = time.time()\n",
    "                print(\"Epoch {}/{}\".format(e, epochs),\n",
    "                      \"Iteration: {}\".format(iteration),\n",
    "                      \"Avg. Training loss: {:.4f}\".format(loss/100),\n",
    "                      \"{:.4f} sec/batch\".format((end-start)/100))\n",
    "                loss = 0\n",
    "                start = time.time()\n",
    "            \n",
    "            if iteration % 1000 == 0:\n",
    "                ## From Thushan Ganegedara's implementation\n",
    "                # note that this is expensive (~20% slowdown if computed every 500 steps)\n",
    "                sim = similarity.eval()\n",
    "                for i in range(valid_size):\n",
    "                    valid_word = int_to_vocab[valid_examples[i]]\n",
    "                    top_k = 8 # number of nearest neighbors\n",
    "                    nearest = (-sim[i, :]).argsort()[1:top_k+1]\n",
    "                    log = 'Nearest to %s:' % valid_word\n",
    "                    for k in range(top_k):\n",
    "                        close_word = int_to_vocab[nearest[k]]\n",
    "                        log = '%s %s,' % (log, close_word)\n",
    "                    print(log)\n",
    "            \n",
    "            iteration += 1\n",
    "    save_path = saver.save(sess, \"checkpoints/text8.ckpt\")\n",
    "    embed_mat = sess.run(normalized_embedding)"
   ]
  },
  {
   "cell_type": "markdown",
   "metadata": {},
   "source": [
    "Restore the trained network if you need to:"
   ]
  },
  {
   "cell_type": "code",
   "execution_count": null,
   "metadata": {
    "collapsed": true
   },
   "outputs": [],
   "source": [
    "with train_graph.as_default():\n",
    "    saver = tf.train.Saver()\n",
    "\n",
    "with tf.Session(graph=train_graph) as sess:\n",
    "    saver.restore(sess, tf.train.latest_checkpoint('checkpoints'))\n",
    "    embed_mat = sess.run(embedding)"
   ]
  },
  {
   "cell_type": "markdown",
   "metadata": {},
   "source": [
    "## Visualizing the word vectors\n",
    "\n",
    "Below we'll use T-SNE to visualize how our high-dimensional word vectors cluster together. T-SNE is used to project these vectors into two dimensions while preserving local stucture. Check out [this post from Christopher Olah](http://colah.github.io/posts/2014-10-Visualizing-MNIST/) to learn more about T-SNE and other ways to visualize high-dimensional data."
   ]
  },
  {
   "cell_type": "code",
   "execution_count": null,
   "metadata": {
    "collapsed": true
   },
   "outputs": [],
   "source": [
    "%matplotlib inline\n",
    "%config InlineBackend.figure_format = 'retina'\n",
    "\n",
    "import matplotlib.pyplot as plt\n",
    "from sklearn.manifold import TSNE"
   ]
  },
  {
   "cell_type": "code",
   "execution_count": null,
   "metadata": {
    "collapsed": true
   },
   "outputs": [],
   "source": [
    "viz_words = 500\n",
    "tsne = TSNE()\n",
    "embed_tsne = tsne.fit_transform(embed_mat[:viz_words, :])"
   ]
  },
  {
   "cell_type": "code",
   "execution_count": null,
   "metadata": {
    "collapsed": true
   },
   "outputs": [],
   "source": [
    "fig, ax = plt.subplots(figsize=(14, 14))\n",
    "for idx in range(viz_words):\n",
    "    plt.scatter(*embed_tsne[idx, :], color='steelblue')\n",
    "    plt.annotate(int_to_vocab[idx], (embed_tsne[idx, 0], embed_tsne[idx, 1]), alpha=0.7)"
   ]
  }
 ],
 "metadata": {
  "kernelspec": {
   "display_name": "udacity_deep_learning",
   "language": "python",
   "name": "udacity_deep_learning"
  },
  "language_info": {
   "codemirror_mode": {
    "name": "ipython",
    "version": 3
   },
   "file_extension": ".py",
   "mimetype": "text/x-python",
   "name": "python",
   "nbconvert_exporter": "python",
   "pygments_lexer": "ipython3",
   "version": "3.6.1"
  }
 },
 "nbformat": 4,
 "nbformat_minor": 2
}
